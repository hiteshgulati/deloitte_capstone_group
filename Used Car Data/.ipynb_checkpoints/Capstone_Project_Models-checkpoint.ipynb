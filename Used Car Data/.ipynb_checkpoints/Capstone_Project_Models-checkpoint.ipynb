{
 "cells": [
  {
   "cell_type": "markdown",
   "metadata": {},
   "source": [
    "# Azure Batch - G2"
   ]
  },
  {
   "cell_type": "markdown",
   "metadata": {},
   "source": [
    "\n",
    "## Domain:\n",
    "#### Automobile Industry\n",
    "\n",
    "## About:\n",
    "#### The XYZ automobile company in India wants to enter the business of selling used cars. They would like to analyse the business challenges before the venture. \n"
   ]
  },
  {
   "cell_type": "markdown",
   "metadata": {},
   "source": [
    "#### Importing all the libraries"
   ]
  },
  {
   "cell_type": "code",
   "execution_count": 1,
   "metadata": {},
   "outputs": [],
   "source": [
    "import pandas as pd\n",
    "import numpy as np\n",
    "pd.options.mode.chained_assignment = None \n",
    "from IPython.display import display\n",
    "import scipy.stats as stats\n",
    "import statsmodels.api as sm\n",
    "from statsmodels.formula.api import ols\n",
    "import seaborn as sns\n",
    "import matplotlib.pyplot as plt\n",
    "from matplotlib import style\n",
    "from sklearn.linear_model import LinearRegression\n",
    "from sklearn.metrics import mean_squared_error, r2_score\n",
    "from sklearn.metrics import accuracy_score, recall_score, precision_score, f1_score, roc_auc_score, roc_curve\n",
    "from sklearn.model_selection import train_test_split\n",
    "from sklearn.preprocessing import StandardScaler\n",
    "from sklearn.linear_model import LogisticRegression\n",
    "from sklearn.tree import DecisionTreeClassifier\n",
    "from sklearn.neighbors import KNeighborsClassifier\n",
    "from sklearn.svm import SVC"
   ]
  },
  {
   "cell_type": "markdown",
   "metadata": {},
   "source": [
    "#### Importing File Car_Sales CSV File and displaying first 5 entries of our Data Set"
   ]
  },
  {
   "cell_type": "code",
   "execution_count": 2,
   "metadata": {
    "scrolled": false
   },
   "outputs": [
    {
     "data": {
      "text/html": [
       "<div>\n",
       "<style scoped>\n",
       "    .dataframe tbody tr th:only-of-type {\n",
       "        vertical-align: middle;\n",
       "    }\n",
       "\n",
       "    .dataframe tbody tr th {\n",
       "        vertical-align: top;\n",
       "    }\n",
       "\n",
       "    .dataframe thead th {\n",
       "        text-align: right;\n",
       "    }\n",
       "</style>\n",
       "<table border=\"1\" class=\"dataframe\">\n",
       "  <thead>\n",
       "    <tr style=\"text-align: right;\">\n",
       "      <th></th>\n",
       "      <th>Sales_ID</th>\n",
       "      <th>Name</th>\n",
       "      <th>Year</th>\n",
       "      <th>Selling_Price</th>\n",
       "      <th>km_Driven</th>\n",
       "      <th>City_Code</th>\n",
       "      <th>State_Code</th>\n",
       "      <th>Postal_Code</th>\n",
       "      <th>Fuel</th>\n",
       "      <th>Seller_Type</th>\n",
       "      <th>Transmission</th>\n",
       "      <th>Owner</th>\n",
       "      <th>Mileage</th>\n",
       "      <th>Engine</th>\n",
       "      <th>Max_Power</th>\n",
       "      <th>Seats</th>\n",
       "    </tr>\n",
       "  </thead>\n",
       "  <tbody>\n",
       "    <tr>\n",
       "      <th>0</th>\n",
       "      <td>1</td>\n",
       "      <td>Maruti Swift Dzire VDI</td>\n",
       "      <td>2014</td>\n",
       "      <td>450000</td>\n",
       "      <td>145500</td>\n",
       "      <td>CT01</td>\n",
       "      <td>ST15</td>\n",
       "      <td>400001</td>\n",
       "      <td>Diesel</td>\n",
       "      <td>Individual</td>\n",
       "      <td>Manual</td>\n",
       "      <td>First Owner</td>\n",
       "      <td>23.4 kmpl</td>\n",
       "      <td>1248 CC</td>\n",
       "      <td>74 bhp</td>\n",
       "      <td>5</td>\n",
       "    </tr>\n",
       "    <tr>\n",
       "      <th>1</th>\n",
       "      <td>2</td>\n",
       "      <td>Skoda Rapid 1.5 TDI Ambition</td>\n",
       "      <td>2014</td>\n",
       "      <td>370000</td>\n",
       "      <td>120000</td>\n",
       "      <td>CT28</td>\n",
       "      <td>ST11</td>\n",
       "      <td>834001</td>\n",
       "      <td>Diesel</td>\n",
       "      <td>Individual</td>\n",
       "      <td>Manual</td>\n",
       "      <td>Second Owner</td>\n",
       "      <td>21.14 kmpl</td>\n",
       "      <td>1498 CC</td>\n",
       "      <td>103.52 bhp</td>\n",
       "      <td>5</td>\n",
       "    </tr>\n",
       "    <tr>\n",
       "      <th>2</th>\n",
       "      <td>3</td>\n",
       "      <td>Honda City 2017-2020 EXi</td>\n",
       "      <td>2006</td>\n",
       "      <td>158000</td>\n",
       "      <td>140000</td>\n",
       "      <td>CT12</td>\n",
       "      <td>ST28</td>\n",
       "      <td>201301</td>\n",
       "      <td>Petrol</td>\n",
       "      <td>Individual</td>\n",
       "      <td>Manual</td>\n",
       "      <td>Third Owner</td>\n",
       "      <td>17.7 kmpl</td>\n",
       "      <td>1497 CC</td>\n",
       "      <td>78 bhp</td>\n",
       "      <td>5</td>\n",
       "    </tr>\n",
       "    <tr>\n",
       "      <th>3</th>\n",
       "      <td>4</td>\n",
       "      <td>Hyundai i20 Sportz Diesel</td>\n",
       "      <td>2010</td>\n",
       "      <td>225000</td>\n",
       "      <td>127000</td>\n",
       "      <td>CT21</td>\n",
       "      <td>ST27</td>\n",
       "      <td>248001</td>\n",
       "      <td>Diesel</td>\n",
       "      <td>Individual</td>\n",
       "      <td>Manual</td>\n",
       "      <td>First Owner</td>\n",
       "      <td>23.0 kmpl</td>\n",
       "      <td>1396 CC</td>\n",
       "      <td>90 bhp</td>\n",
       "      <td>5</td>\n",
       "    </tr>\n",
       "    <tr>\n",
       "      <th>4</th>\n",
       "      <td>5</td>\n",
       "      <td>Maruti Swift VXI BSIII</td>\n",
       "      <td>2007</td>\n",
       "      <td>130000</td>\n",
       "      <td>120000</td>\n",
       "      <td>CT03</td>\n",
       "      <td>ST24</td>\n",
       "      <td>600020</td>\n",
       "      <td>Petrol</td>\n",
       "      <td>Individual</td>\n",
       "      <td>Manual</td>\n",
       "      <td>First Owner</td>\n",
       "      <td>16.1 kmpl</td>\n",
       "      <td>1298 CC</td>\n",
       "      <td>88.2 bhp</td>\n",
       "      <td>5</td>\n",
       "    </tr>\n",
       "  </tbody>\n",
       "</table>\n",
       "</div>"
      ],
      "text/plain": [
       "   Sales_ID                          Name  Year  Selling_Price  km_Driven  \\\n",
       "0         1        Maruti Swift Dzire VDI  2014         450000     145500   \n",
       "1         2  Skoda Rapid 1.5 TDI Ambition  2014         370000     120000   \n",
       "2         3      Honda City 2017-2020 EXi  2006         158000     140000   \n",
       "3         4     Hyundai i20 Sportz Diesel  2010         225000     127000   \n",
       "4         5        Maruti Swift VXI BSIII  2007         130000     120000   \n",
       "\n",
       "  City_Code State_Code  Postal_Code    Fuel Seller_Type Transmission  \\\n",
       "0      CT01       ST15       400001  Diesel  Individual       Manual   \n",
       "1      CT28       ST11       834001  Diesel  Individual       Manual   \n",
       "2      CT12       ST28       201301  Petrol  Individual       Manual   \n",
       "3      CT21       ST27       248001  Diesel  Individual       Manual   \n",
       "4      CT03       ST24       600020  Petrol  Individual       Manual   \n",
       "\n",
       "          Owner     Mileage   Engine   Max_Power  Seats  \n",
       "0   First Owner   23.4 kmpl  1248 CC      74 bhp      5  \n",
       "1  Second Owner  21.14 kmpl  1498 CC  103.52 bhp      5  \n",
       "2   Third Owner   17.7 kmpl  1497 CC      78 bhp      5  \n",
       "3   First Owner   23.0 kmpl  1396 CC      90 bhp      5  \n",
       "4   First Owner   16.1 kmpl  1298 CC    88.2 bhp      5  "
      ]
     },
     "execution_count": 2,
     "metadata": {},
     "output_type": "execute_result"
    }
   ],
   "source": [
    "car_data = pd.read_csv('Car_sales_transactions.csv', sep=\",\",header = 0, encoding='latin')\n",
    "car_data.head()"
   ]
  },
  {
   "cell_type": "code",
   "execution_count": 3,
   "metadata": {},
   "outputs": [
    {
     "data": {
      "text/plain": [
       "(7906, 16)"
      ]
     },
     "execution_count": 3,
     "metadata": {},
     "output_type": "execute_result"
    }
   ],
   "source": [
    "car_data.shape"
   ]
  },
  {
   "cell_type": "markdown",
   "metadata": {},
   "source": [
    "#### Displaying all the column names."
   ]
  },
  {
   "cell_type": "code",
   "execution_count": 4,
   "metadata": {},
   "outputs": [
    {
     "data": {
      "text/plain": [
       "Index(['Sales_ID', 'Name', 'Year', 'Selling_Price', 'km_Driven', 'City_Code',\n",
       "       'State_Code', 'Postal_Code', 'Fuel', 'Seller_Type', 'Transmission',\n",
       "       'Owner', 'Mileage', 'Engine', 'Max_Power', 'Seats'],\n",
       "      dtype='object')"
      ]
     },
     "execution_count": 4,
     "metadata": {},
     "output_type": "execute_result"
    }
   ],
   "source": [
    "car_data.columns"
   ]
  },
  {
   "cell_type": "markdown",
   "metadata": {},
   "source": [
    "#### Importing data from Sales Status and City Master File and merging it with the data and displaying first five entries"
   ]
  },
  {
   "cell_type": "code",
   "execution_count": 5,
   "metadata": {
    "scrolled": false
   },
   "outputs": [
    {
     "data": {
      "text/html": [
       "<div>\n",
       "<style scoped>\n",
       "    .dataframe tbody tr th:only-of-type {\n",
       "        vertical-align: middle;\n",
       "    }\n",
       "\n",
       "    .dataframe tbody tr th {\n",
       "        vertical-align: top;\n",
       "    }\n",
       "\n",
       "    .dataframe thead th {\n",
       "        text-align: right;\n",
       "    }\n",
       "</style>\n",
       "<table border=\"1\" class=\"dataframe\">\n",
       "  <thead>\n",
       "    <tr style=\"text-align: right;\">\n",
       "      <th></th>\n",
       "      <th>Sales_ID</th>\n",
       "      <th>Name</th>\n",
       "      <th>Year</th>\n",
       "      <th>Selling_Price</th>\n",
       "      <th>km_Driven</th>\n",
       "      <th>City_Code</th>\n",
       "      <th>State_Code</th>\n",
       "      <th>Postal_Code</th>\n",
       "      <th>Fuel</th>\n",
       "      <th>Seller_Type</th>\n",
       "      <th>...</th>\n",
       "      <th>Owner</th>\n",
       "      <th>Mileage</th>\n",
       "      <th>Engine</th>\n",
       "      <th>Max_Power</th>\n",
       "      <th>Seats</th>\n",
       "      <th>City_Name</th>\n",
       "      <th>Region_Code</th>\n",
       "      <th>Sold</th>\n",
       "      <th>State_Name</th>\n",
       "      <th>Region</th>\n",
       "    </tr>\n",
       "  </thead>\n",
       "  <tbody>\n",
       "    <tr>\n",
       "      <th>0</th>\n",
       "      <td>1</td>\n",
       "      <td>Maruti Swift Dzire VDI</td>\n",
       "      <td>2014</td>\n",
       "      <td>450000</td>\n",
       "      <td>145500</td>\n",
       "      <td>CT01</td>\n",
       "      <td>ST15</td>\n",
       "      <td>400001</td>\n",
       "      <td>Diesel</td>\n",
       "      <td>Individual</td>\n",
       "      <td>...</td>\n",
       "      <td>First Owner</td>\n",
       "      <td>23.4 kmpl</td>\n",
       "      <td>1248 CC</td>\n",
       "      <td>74 bhp</td>\n",
       "      <td>5</td>\n",
       "      <td>Mumbai</td>\n",
       "      <td>R3</td>\n",
       "      <td>Y</td>\n",
       "      <td>Maharashtra</td>\n",
       "      <td>West</td>\n",
       "    </tr>\n",
       "    <tr>\n",
       "      <th>1</th>\n",
       "      <td>2</td>\n",
       "      <td>Skoda Rapid 1.5 TDI Ambition</td>\n",
       "      <td>2014</td>\n",
       "      <td>370000</td>\n",
       "      <td>120000</td>\n",
       "      <td>CT28</td>\n",
       "      <td>ST11</td>\n",
       "      <td>834001</td>\n",
       "      <td>Diesel</td>\n",
       "      <td>Individual</td>\n",
       "      <td>...</td>\n",
       "      <td>Second Owner</td>\n",
       "      <td>21.14 kmpl</td>\n",
       "      <td>1498 CC</td>\n",
       "      <td>103.52 bhp</td>\n",
       "      <td>5</td>\n",
       "      <td>Ranchi</td>\n",
       "      <td>R2</td>\n",
       "      <td>Y</td>\n",
       "      <td>Jharkhand</td>\n",
       "      <td>East</td>\n",
       "    </tr>\n",
       "    <tr>\n",
       "      <th>2</th>\n",
       "      <td>3</td>\n",
       "      <td>Honda City 2017-2020 EXi</td>\n",
       "      <td>2006</td>\n",
       "      <td>158000</td>\n",
       "      <td>140000</td>\n",
       "      <td>CT12</td>\n",
       "      <td>ST28</td>\n",
       "      <td>201301</td>\n",
       "      <td>Petrol</td>\n",
       "      <td>Individual</td>\n",
       "      <td>...</td>\n",
       "      <td>Third Owner</td>\n",
       "      <td>17.7 kmpl</td>\n",
       "      <td>1497 CC</td>\n",
       "      <td>78 bhp</td>\n",
       "      <td>5</td>\n",
       "      <td>Noida</td>\n",
       "      <td>R1</td>\n",
       "      <td>Y</td>\n",
       "      <td>Uttar Pradesh</td>\n",
       "      <td>Central</td>\n",
       "    </tr>\n",
       "    <tr>\n",
       "      <th>3</th>\n",
       "      <td>4</td>\n",
       "      <td>Hyundai i20 Sportz Diesel</td>\n",
       "      <td>2010</td>\n",
       "      <td>225000</td>\n",
       "      <td>127000</td>\n",
       "      <td>CT21</td>\n",
       "      <td>ST27</td>\n",
       "      <td>248001</td>\n",
       "      <td>Diesel</td>\n",
       "      <td>Individual</td>\n",
       "      <td>...</td>\n",
       "      <td>First Owner</td>\n",
       "      <td>23.0 kmpl</td>\n",
       "      <td>1396 CC</td>\n",
       "      <td>90 bhp</td>\n",
       "      <td>5</td>\n",
       "      <td>Dehradun</td>\n",
       "      <td>R1</td>\n",
       "      <td>Y</td>\n",
       "      <td>Uttarakhand</td>\n",
       "      <td>Central</td>\n",
       "    </tr>\n",
       "    <tr>\n",
       "      <th>4</th>\n",
       "      <td>5</td>\n",
       "      <td>Maruti Swift VXI BSIII</td>\n",
       "      <td>2007</td>\n",
       "      <td>130000</td>\n",
       "      <td>120000</td>\n",
       "      <td>CT03</td>\n",
       "      <td>ST24</td>\n",
       "      <td>600020</td>\n",
       "      <td>Petrol</td>\n",
       "      <td>Individual</td>\n",
       "      <td>...</td>\n",
       "      <td>First Owner</td>\n",
       "      <td>16.1 kmpl</td>\n",
       "      <td>1298 CC</td>\n",
       "      <td>88.2 bhp</td>\n",
       "      <td>5</td>\n",
       "      <td>Chennai</td>\n",
       "      <td>R4</td>\n",
       "      <td>Y</td>\n",
       "      <td>Tamil Nadu</td>\n",
       "      <td>South</td>\n",
       "    </tr>\n",
       "  </tbody>\n",
       "</table>\n",
       "<p>5 rows × 21 columns</p>\n",
       "</div>"
      ],
      "text/plain": [
       "   Sales_ID                          Name  Year  Selling_Price  km_Driven  \\\n",
       "0         1        Maruti Swift Dzire VDI  2014         450000     145500   \n",
       "1         2  Skoda Rapid 1.5 TDI Ambition  2014         370000     120000   \n",
       "2         3      Honda City 2017-2020 EXi  2006         158000     140000   \n",
       "3         4     Hyundai i20 Sportz Diesel  2010         225000     127000   \n",
       "4         5        Maruti Swift VXI BSIII  2007         130000     120000   \n",
       "\n",
       "  City_Code State_Code  Postal_Code    Fuel Seller_Type  ...         Owner  \\\n",
       "0      CT01       ST15       400001  Diesel  Individual  ...   First Owner   \n",
       "1      CT28       ST11       834001  Diesel  Individual  ...  Second Owner   \n",
       "2      CT12       ST28       201301  Petrol  Individual  ...   Third Owner   \n",
       "3      CT21       ST27       248001  Diesel  Individual  ...   First Owner   \n",
       "4      CT03       ST24       600020  Petrol  Individual  ...   First Owner   \n",
       "\n",
       "      Mileage   Engine   Max_Power Seats  City_Name Region_Code Sold  \\\n",
       "0   23.4 kmpl  1248 CC      74 bhp     5     Mumbai          R3    Y   \n",
       "1  21.14 kmpl  1498 CC  103.52 bhp     5     Ranchi          R2    Y   \n",
       "2   17.7 kmpl  1497 CC      78 bhp     5      Noida          R1    Y   \n",
       "3   23.0 kmpl  1396 CC      90 bhp     5   Dehradun          R1    Y   \n",
       "4   16.1 kmpl  1298 CC    88.2 bhp     5    Chennai          R4    Y   \n",
       "\n",
       "      State_Name   Region  \n",
       "0    Maharashtra     West  \n",
       "1      Jharkhand     East  \n",
       "2  Uttar Pradesh  Central  \n",
       "3    Uttarakhand  Central  \n",
       "4     Tamil Nadu    South  \n",
       "\n",
       "[5 rows x 21 columns]"
      ]
     },
     "execution_count": 5,
     "metadata": {},
     "output_type": "execute_result"
    }
   ],
   "source": [
    "sales_status = pd.read_csv('Sales_Status.csv')\n",
    "city_master = pd.read_excel('City_Master.xlsx')\n",
    "region = pd.read_excel('Region_Master.xlsx')\n",
    "region_state = pd.read_excel('Region_State_Mapping.xlsx')\n",
    "state = pd.read_excel('State_Master.xlsx')\n",
    "car_data = pd.merge(car_data,city_master[['City_Code','City_Name']],how ='left',on='City_Code')\n",
    "car_data = pd.merge(car_data,region_state, how ='left',on='State_Code')\n",
    "car_data = pd.merge(car_data,sales_status, how = 'left', on='Sales_ID')\n",
    "car_data = pd.merge(car_data,state, how = 'left', on='State_Code')\n",
    "car_data = pd.merge(car_data,region, how = 'left', on='Region_Code')\n",
    "car_data.head()\n"
   ]
  },
  {
   "cell_type": "code",
   "execution_count": 6,
   "metadata": {},
   "outputs": [],
   "source": [
    "car_data['Mileage_float'] = car_data['Mileage'].str[:-5]\n",
    "car_data['Power'] = car_data['Max_Power'].str[:-4]\n",
    "car_data['Mileage_float'] = car_data['Mileage_float'].apply(pd.to_numeric)\n",
    "car_data['Power'] = car_data['Power'].apply(pd.to_numeric)\n",
    "car_data['Power']\n",
    "car_data['Engine_cc'] = car_data['Engine'].str.split(pat=\" \",expand=True)[0].astype(int)\n",
    "brand = car_data['Name'].str.split(expand = True)\n",
    "# print(brand)\n",
    "car_data['Brand'] = brand[0]"
   ]
  },
  {
   "cell_type": "code",
   "execution_count": 7,
   "metadata": {},
   "outputs": [
    {
     "data": {
      "text/plain": [
       "Sales_ID         0\n",
       "Name             0\n",
       "Year             0\n",
       "Selling_Price    0\n",
       "km_Driven        0\n",
       "City_Code        0\n",
       "State_Code       0\n",
       "Postal_Code      0\n",
       "Fuel             0\n",
       "Seller_Type      0\n",
       "Transmission     0\n",
       "Owner            0\n",
       "Mileage          0\n",
       "Engine           0\n",
       "Max_Power        0\n",
       "Seats            0\n",
       "City_Name        0\n",
       "Region_Code      0\n",
       "Sold             0\n",
       "State_Name       0\n",
       "Region           0\n",
       "Mileage_float    0\n",
       "Power            0\n",
       "Engine_cc        0\n",
       "Brand            0\n",
       "dtype: int64"
      ]
     },
     "execution_count": 7,
     "metadata": {},
     "output_type": "execute_result"
    }
   ],
   "source": [
    "car_data.isnull().sum()"
   ]
  },
  {
   "cell_type": "code",
   "execution_count": 8,
   "metadata": {},
   "outputs": [],
   "source": [
    "## Model for only Sold Cars without outliers"
   ]
  },
  {
   "cell_type": "code",
   "execution_count": 9,
   "metadata": {},
   "outputs": [],
   "source": [
    "car_data_sold = car_data.query(\"Sold == 'Y'\")\n",
    "# car_data_sold = car_data"
   ]
  },
  {
   "cell_type": "code",
   "execution_count": 10,
   "metadata": {},
   "outputs": [
    {
     "data": {
      "text/html": [
       "<div>\n",
       "<style scoped>\n",
       "    .dataframe tbody tr th:only-of-type {\n",
       "        vertical-align: middle;\n",
       "    }\n",
       "\n",
       "    .dataframe tbody tr th {\n",
       "        vertical-align: top;\n",
       "    }\n",
       "\n",
       "    .dataframe thead th {\n",
       "        text-align: right;\n",
       "    }\n",
       "</style>\n",
       "<table border=\"1\" class=\"dataframe\">\n",
       "  <thead>\n",
       "    <tr style=\"text-align: right;\">\n",
       "      <th></th>\n",
       "      <th>Sales_ID</th>\n",
       "      <th>Name</th>\n",
       "      <th>Year</th>\n",
       "      <th>Selling_Price</th>\n",
       "      <th>km_Driven</th>\n",
       "      <th>City_Code</th>\n",
       "      <th>State_Code</th>\n",
       "      <th>Postal_Code</th>\n",
       "      <th>Fuel</th>\n",
       "      <th>Seller_Type</th>\n",
       "      <th>...</th>\n",
       "      <th>Seats</th>\n",
       "      <th>City_Name</th>\n",
       "      <th>Region_Code</th>\n",
       "      <th>Sold</th>\n",
       "      <th>State_Name</th>\n",
       "      <th>Region</th>\n",
       "      <th>Mileage_float</th>\n",
       "      <th>Power</th>\n",
       "      <th>Engine_cc</th>\n",
       "      <th>Brand</th>\n",
       "    </tr>\n",
       "  </thead>\n",
       "  <tbody>\n",
       "    <tr>\n",
       "      <th>0</th>\n",
       "      <td>1</td>\n",
       "      <td>Maruti Swift Dzire VDI</td>\n",
       "      <td>2014</td>\n",
       "      <td>450000</td>\n",
       "      <td>145500</td>\n",
       "      <td>CT01</td>\n",
       "      <td>ST15</td>\n",
       "      <td>400001</td>\n",
       "      <td>Diesel</td>\n",
       "      <td>Individual</td>\n",
       "      <td>...</td>\n",
       "      <td>5</td>\n",
       "      <td>Mumbai</td>\n",
       "      <td>R3</td>\n",
       "      <td>Y</td>\n",
       "      <td>Maharashtra</td>\n",
       "      <td>West</td>\n",
       "      <td>23.40</td>\n",
       "      <td>74.00</td>\n",
       "      <td>1248</td>\n",
       "      <td>Maruti</td>\n",
       "    </tr>\n",
       "    <tr>\n",
       "      <th>1</th>\n",
       "      <td>2</td>\n",
       "      <td>Skoda Rapid 1.5 TDI Ambition</td>\n",
       "      <td>2014</td>\n",
       "      <td>370000</td>\n",
       "      <td>120000</td>\n",
       "      <td>CT28</td>\n",
       "      <td>ST11</td>\n",
       "      <td>834001</td>\n",
       "      <td>Diesel</td>\n",
       "      <td>Individual</td>\n",
       "      <td>...</td>\n",
       "      <td>5</td>\n",
       "      <td>Ranchi</td>\n",
       "      <td>R2</td>\n",
       "      <td>Y</td>\n",
       "      <td>Jharkhand</td>\n",
       "      <td>East</td>\n",
       "      <td>21.14</td>\n",
       "      <td>103.52</td>\n",
       "      <td>1498</td>\n",
       "      <td>Skoda</td>\n",
       "    </tr>\n",
       "    <tr>\n",
       "      <th>2</th>\n",
       "      <td>3</td>\n",
       "      <td>Honda City 2017-2020 EXi</td>\n",
       "      <td>2006</td>\n",
       "      <td>158000</td>\n",
       "      <td>140000</td>\n",
       "      <td>CT12</td>\n",
       "      <td>ST28</td>\n",
       "      <td>201301</td>\n",
       "      <td>Petrol</td>\n",
       "      <td>Individual</td>\n",
       "      <td>...</td>\n",
       "      <td>5</td>\n",
       "      <td>Noida</td>\n",
       "      <td>R1</td>\n",
       "      <td>Y</td>\n",
       "      <td>Uttar Pradesh</td>\n",
       "      <td>Central</td>\n",
       "      <td>17.70</td>\n",
       "      <td>78.00</td>\n",
       "      <td>1497</td>\n",
       "      <td>Honda</td>\n",
       "    </tr>\n",
       "    <tr>\n",
       "      <th>3</th>\n",
       "      <td>4</td>\n",
       "      <td>Hyundai i20 Sportz Diesel</td>\n",
       "      <td>2010</td>\n",
       "      <td>225000</td>\n",
       "      <td>127000</td>\n",
       "      <td>CT21</td>\n",
       "      <td>ST27</td>\n",
       "      <td>248001</td>\n",
       "      <td>Diesel</td>\n",
       "      <td>Individual</td>\n",
       "      <td>...</td>\n",
       "      <td>5</td>\n",
       "      <td>Dehradun</td>\n",
       "      <td>R1</td>\n",
       "      <td>Y</td>\n",
       "      <td>Uttarakhand</td>\n",
       "      <td>Central</td>\n",
       "      <td>23.00</td>\n",
       "      <td>90.00</td>\n",
       "      <td>1396</td>\n",
       "      <td>Hyundai</td>\n",
       "    </tr>\n",
       "    <tr>\n",
       "      <th>4</th>\n",
       "      <td>5</td>\n",
       "      <td>Maruti Swift VXI BSIII</td>\n",
       "      <td>2007</td>\n",
       "      <td>130000</td>\n",
       "      <td>120000</td>\n",
       "      <td>CT03</td>\n",
       "      <td>ST24</td>\n",
       "      <td>600020</td>\n",
       "      <td>Petrol</td>\n",
       "      <td>Individual</td>\n",
       "      <td>...</td>\n",
       "      <td>5</td>\n",
       "      <td>Chennai</td>\n",
       "      <td>R4</td>\n",
       "      <td>Y</td>\n",
       "      <td>Tamil Nadu</td>\n",
       "      <td>South</td>\n",
       "      <td>16.10</td>\n",
       "      <td>88.20</td>\n",
       "      <td>1298</td>\n",
       "      <td>Maruti</td>\n",
       "    </tr>\n",
       "    <tr>\n",
       "      <th>...</th>\n",
       "      <td>...</td>\n",
       "      <td>...</td>\n",
       "      <td>...</td>\n",
       "      <td>...</td>\n",
       "      <td>...</td>\n",
       "      <td>...</td>\n",
       "      <td>...</td>\n",
       "      <td>...</td>\n",
       "      <td>...</td>\n",
       "      <td>...</td>\n",
       "      <td>...</td>\n",
       "      <td>...</td>\n",
       "      <td>...</td>\n",
       "      <td>...</td>\n",
       "      <td>...</td>\n",
       "      <td>...</td>\n",
       "      <td>...</td>\n",
       "      <td>...</td>\n",
       "      <td>...</td>\n",
       "      <td>...</td>\n",
       "      <td>...</td>\n",
       "    </tr>\n",
       "    <tr>\n",
       "      <th>1995</th>\n",
       "      <td>2057</td>\n",
       "      <td>Mahindra TUV 300 mHAWK100 T8 Dual Tone</td>\n",
       "      <td>2017</td>\n",
       "      <td>750000</td>\n",
       "      <td>60000</td>\n",
       "      <td>CT05</td>\n",
       "      <td>ST25</td>\n",
       "      <td>500020</td>\n",
       "      <td>Diesel</td>\n",
       "      <td>Individual</td>\n",
       "      <td>...</td>\n",
       "      <td>7</td>\n",
       "      <td>Hyderabad</td>\n",
       "      <td>R4</td>\n",
       "      <td>Y</td>\n",
       "      <td>Telangana</td>\n",
       "      <td>South</td>\n",
       "      <td>18.49</td>\n",
       "      <td>100.00</td>\n",
       "      <td>1493</td>\n",
       "      <td>Mahindra</td>\n",
       "    </tr>\n",
       "    <tr>\n",
       "      <th>1996</th>\n",
       "      <td>2058</td>\n",
       "      <td>Chevrolet Spark 1.0 LS</td>\n",
       "      <td>2011</td>\n",
       "      <td>150000</td>\n",
       "      <td>80000</td>\n",
       "      <td>CT12</td>\n",
       "      <td>ST28</td>\n",
       "      <td>201301</td>\n",
       "      <td>Petrol</td>\n",
       "      <td>Individual</td>\n",
       "      <td>...</td>\n",
       "      <td>5</td>\n",
       "      <td>Noida</td>\n",
       "      <td>R1</td>\n",
       "      <td>Y</td>\n",
       "      <td>Uttar Pradesh</td>\n",
       "      <td>Central</td>\n",
       "      <td>18.00</td>\n",
       "      <td>62.00</td>\n",
       "      <td>995</td>\n",
       "      <td>Chevrolet</td>\n",
       "    </tr>\n",
       "    <tr>\n",
       "      <th>1997</th>\n",
       "      <td>2059</td>\n",
       "      <td>Maruti Alto 800 LXI</td>\n",
       "      <td>2016</td>\n",
       "      <td>245000</td>\n",
       "      <td>50000</td>\n",
       "      <td>CT25</td>\n",
       "      <td>ST01</td>\n",
       "      <td>524225</td>\n",
       "      <td>Petrol</td>\n",
       "      <td>Individual</td>\n",
       "      <td>...</td>\n",
       "      <td>5</td>\n",
       "      <td>Nellore</td>\n",
       "      <td>R4</td>\n",
       "      <td>Y</td>\n",
       "      <td>Andhra Pradesh</td>\n",
       "      <td>South</td>\n",
       "      <td>22.74</td>\n",
       "      <td>47.30</td>\n",
       "      <td>796</td>\n",
       "      <td>Maruti</td>\n",
       "    </tr>\n",
       "    <tr>\n",
       "      <th>1998</th>\n",
       "      <td>2060</td>\n",
       "      <td>Tata Manza Club Class Quadrajet90 VX</td>\n",
       "      <td>2013</td>\n",
       "      <td>260000</td>\n",
       "      <td>189000</td>\n",
       "      <td>CT13</td>\n",
       "      <td>ST04</td>\n",
       "      <td>800002</td>\n",
       "      <td>Diesel</td>\n",
       "      <td>Individual</td>\n",
       "      <td>...</td>\n",
       "      <td>5</td>\n",
       "      <td>Patna</td>\n",
       "      <td>R2</td>\n",
       "      <td>Y</td>\n",
       "      <td>Bihar</td>\n",
       "      <td>East</td>\n",
       "      <td>21.02</td>\n",
       "      <td>88.76</td>\n",
       "      <td>1248</td>\n",
       "      <td>Tata</td>\n",
       "    </tr>\n",
       "    <tr>\n",
       "      <th>1999</th>\n",
       "      <td>2061</td>\n",
       "      <td>Volkswagen Vento 1.5 TDI Highline AT</td>\n",
       "      <td>2014</td>\n",
       "      <td>411000</td>\n",
       "      <td>90000</td>\n",
       "      <td>CT08</td>\n",
       "      <td>ST29</td>\n",
       "      <td>700053</td>\n",
       "      <td>Diesel</td>\n",
       "      <td>Individual</td>\n",
       "      <td>...</td>\n",
       "      <td>5</td>\n",
       "      <td>Kolkata</td>\n",
       "      <td>R2</td>\n",
       "      <td>Y</td>\n",
       "      <td>West Bengal</td>\n",
       "      <td>East</td>\n",
       "      <td>21.21</td>\n",
       "      <td>103.20</td>\n",
       "      <td>1498</td>\n",
       "      <td>Volkswagen</td>\n",
       "    </tr>\n",
       "  </tbody>\n",
       "</table>\n",
       "<p>2000 rows × 25 columns</p>\n",
       "</div>"
      ],
      "text/plain": [
       "      Sales_ID                                    Name  Year  Selling_Price  \\\n",
       "0            1                  Maruti Swift Dzire VDI  2014         450000   \n",
       "1            2            Skoda Rapid 1.5 TDI Ambition  2014         370000   \n",
       "2            3                Honda City 2017-2020 EXi  2006         158000   \n",
       "3            4               Hyundai i20 Sportz Diesel  2010         225000   \n",
       "4            5                  Maruti Swift VXI BSIII  2007         130000   \n",
       "...        ...                                     ...   ...            ...   \n",
       "1995      2057  Mahindra TUV 300 mHAWK100 T8 Dual Tone  2017         750000   \n",
       "1996      2058                  Chevrolet Spark 1.0 LS  2011         150000   \n",
       "1997      2059                     Maruti Alto 800 LXI  2016         245000   \n",
       "1998      2060    Tata Manza Club Class Quadrajet90 VX  2013         260000   \n",
       "1999      2061    Volkswagen Vento 1.5 TDI Highline AT  2014         411000   \n",
       "\n",
       "      km_Driven City_Code State_Code  Postal_Code    Fuel Seller_Type  ...  \\\n",
       "0        145500      CT01       ST15       400001  Diesel  Individual  ...   \n",
       "1        120000      CT28       ST11       834001  Diesel  Individual  ...   \n",
       "2        140000      CT12       ST28       201301  Petrol  Individual  ...   \n",
       "3        127000      CT21       ST27       248001  Diesel  Individual  ...   \n",
       "4        120000      CT03       ST24       600020  Petrol  Individual  ...   \n",
       "...         ...       ...        ...          ...     ...         ...  ...   \n",
       "1995      60000      CT05       ST25       500020  Diesel  Individual  ...   \n",
       "1996      80000      CT12       ST28       201301  Petrol  Individual  ...   \n",
       "1997      50000      CT25       ST01       524225  Petrol  Individual  ...   \n",
       "1998     189000      CT13       ST04       800002  Diesel  Individual  ...   \n",
       "1999      90000      CT08       ST29       700053  Diesel  Individual  ...   \n",
       "\n",
       "     Seats  City_Name Region_Code Sold      State_Name   Region Mileage_float  \\\n",
       "0        5     Mumbai          R3    Y     Maharashtra     West         23.40   \n",
       "1        5     Ranchi          R2    Y       Jharkhand     East         21.14   \n",
       "2        5      Noida          R1    Y   Uttar Pradesh  Central         17.70   \n",
       "3        5   Dehradun          R1    Y     Uttarakhand  Central         23.00   \n",
       "4        5    Chennai          R4    Y      Tamil Nadu    South         16.10   \n",
       "...    ...        ...         ...  ...             ...      ...           ...   \n",
       "1995     7  Hyderabad          R4    Y       Telangana    South         18.49   \n",
       "1996     5      Noida          R1    Y   Uttar Pradesh  Central         18.00   \n",
       "1997     5    Nellore          R4    Y  Andhra Pradesh    South         22.74   \n",
       "1998     5      Patna          R2    Y           Bihar     East         21.02   \n",
       "1999     5    Kolkata          R2    Y     West Bengal     East         21.21   \n",
       "\n",
       "       Power Engine_cc       Brand  \n",
       "0      74.00      1248      Maruti  \n",
       "1     103.52      1498       Skoda  \n",
       "2      78.00      1497       Honda  \n",
       "3      90.00      1396     Hyundai  \n",
       "4      88.20      1298      Maruti  \n",
       "...      ...       ...         ...  \n",
       "1995  100.00      1493    Mahindra  \n",
       "1996   62.00       995   Chevrolet  \n",
       "1997   47.30       796      Maruti  \n",
       "1998   88.76      1248        Tata  \n",
       "1999  103.20      1498  Volkswagen  \n",
       "\n",
       "[2000 rows x 25 columns]"
      ]
     },
     "execution_count": 10,
     "metadata": {},
     "output_type": "execute_result"
    }
   ],
   "source": [
    "car_data_sold"
   ]
  },
  {
   "cell_type": "code",
   "execution_count": 11,
   "metadata": {},
   "outputs": [
    {
     "name": "stderr",
     "output_type": "stream",
     "text": [
      "C:\\Users\\lbansal\\Anaconda3\\lib\\site-packages\\seaborn\\_decorators.py:36: FutureWarning: Pass the following variable as a keyword arg: x. From version 0.12, the only valid positional argument will be `data`, and passing other arguments without an explicit keyword will result in an error or misinterpretation.\n",
      "  warnings.warn(\n"
     ]
    },
    {
     "data": {
      "text/plain": [
       "<AxesSubplot:xlabel='Selling_Price'>"
      ]
     },
     "execution_count": 11,
     "metadata": {},
     "output_type": "execute_result"
    },
    {
     "data": {
      "image/png": "[encoded data removed]",
      "text/plain": [
       "<Figure size 432x288 with 1 Axes>"
      ]
     },
     "metadata": {
      "needs_background": "light"
     },
     "output_type": "display_data"
    }
   ],
   "source": [
    "sns.boxplot(car_data_sold['Selling_Price'],palette = 'pastel')"
   ]
  },
  {
   "cell_type": "code",
   "execution_count": 12,
   "metadata": {},
   "outputs": [
    {
     "data": {
      "text/plain": [
       "5400000.0"
      ]
     },
     "execution_count": 12,
     "metadata": {},
     "output_type": "execute_result"
    }
   ],
   "source": [
    "car_data_sold['Selling_Price'].quantile(0.99)\n"
   ]
  },
  {
   "cell_type": "code",
   "execution_count": 13,
   "metadata": {},
   "outputs": [
    {
     "data": {
      "text/plain": [
       "{'whiskers': [<matplotlib.lines.Line2D at 0x1f71a441a90>,\n",
       "  <matplotlib.lines.Line2D at 0x1f71a441e20>],\n",
       " 'caps': [<matplotlib.lines.Line2D at 0x1f71a44d1f0>,\n",
       "  <matplotlib.lines.Line2D at 0x1f71a44d580>],\n",
       " 'boxes': [<matplotlib.lines.Line2D at 0x1f71a441700>],\n",
       " 'medians': [<matplotlib.lines.Line2D at 0x1f71a44d910>],\n",
       " 'fliers': [<matplotlib.lines.Line2D at 0x1f71a44dca0>],\n",
       " 'means': []}"
      ]
     },
     "execution_count": 13,
     "metadata": {},
     "output_type": "execute_result"
    },
    {
     "data": {
      "image/png": "[encoded data removed]",
      "text/plain": [
       "<Figure size 432x288 with 1 Axes>"
      ]
     },
     "metadata": {
      "needs_background": "light"
     },
     "output_type": "display_data"
    }
   ],
   "source": [
    "bp = plt.boxplot(car_data_sold['Selling_Price'])\n",
    "bp"
   ]
  },
  {
   "cell_type": "code",
   "execution_count": 14,
   "metadata": {},
   "outputs": [
    {
     "data": {
      "text/plain": [
       "array([ 2100000,  1500000,  1450000,  1650000,  1750000,  1590000,\n",
       "        1689999,  1425000,  1700000,  2500000,  1700000,  3975000,\n",
       "        5150000,  3200000,  4100000,  4500000,  6000000,  3790000,\n",
       "        5800000,  1864999,  2700000,  1750000,  3400000,  2650000,\n",
       "        5850000,  2625000,  2550000,  2700000,  1525000,  2150000,\n",
       "        1900000,  2900000, 10000000,  1750000,  1380000,  1300000,\n",
       "        4600000,  1300000,  3000000,  1550000,  2625000,  5150000,\n",
       "        3200000,  3800000,  2000000,  5400000,  5500000,  2475000,\n",
       "        2625000,  5150000,  3200000,  3800000,  2000000,  5400000,\n",
       "        5500000,  2475000,  1525000,  2000000,  1900000,  1600000,\n",
       "        1800000,  1650000,  1350000,  1500000,  2625000,  5150000,\n",
       "        3200000,  3800000,  2000000,  5400000,  5500000,  2475000,\n",
       "        3000000,  1625000,  1300000,  1600000,  1745000,  1325000,\n",
       "        1380000,  3750000,  2900000,  1400000,  1450000,  2700000,\n",
       "        1925000,  1900000,  6000000,  2940000,  1825000,  2625000,\n",
       "        5150000,  3200000,  3800000,  2000000,  5400000,  5500000,\n",
       "        2475000,  2625000,  5150000,  3200000,  3800000,  2000000,\n",
       "        5400000,  5500000,  2475000,  2625000,  5150000,  3200000,\n",
       "        3800000,  2000000,  5400000,  5500000,  2475000,  2625000,\n",
       "        5150000,  3200000,  3800000,  2000000,  5400000,  5500000,\n",
       "        2475000,  1400000,  1576000,  1560000,  1950000,  1300000,\n",
       "        3250000,  2900000,  3975000,  5150000,  3200000,  4100000,\n",
       "        2000000,  1575000,  1575000,  1465000,  1300000,  1350000,\n",
       "        1700000,  1460000,  2625000,  5150000,  3200000,  3800000,\n",
       "        2000000,  5400000,  5500000,  2475000,  2950000,  1325000,\n",
       "        1675000,  3200000,  3800000,  3250000,  3200000,  1400000,\n",
       "        3975000,  5150000,  3200000,  4100000,  2000000,  5400000,\n",
       "        5500000,  1888000,  2280000,  2450000,  2825000,  2125000,\n",
       "        3350000,  1800000,  1950000,  1900000,  2950000,  3200000,\n",
       "        2600000,  1594000,  1689999], dtype=int64)"
      ]
     },
     "execution_count": 14,
     "metadata": {},
     "output_type": "execute_result"
    }
   ],
   "source": [
    "a = bp['fliers'][0]\n",
    "a.get_data()[1]"
   ]
  },
  {
   "cell_type": "code",
   "execution_count": 15,
   "metadata": {},
   "outputs": [
    {
     "name": "stderr",
     "output_type": "stream",
     "text": [
      "C:\\Users\\lbansal\\AppData\\Local\\Temp/ipykernel_21144/1753997011.py:1: UserWarning: Boolean Series key will be reindexed to match DataFrame index.\n",
      "  car_data_sold_wo = car_data_sold[car_data['Selling_Price']<5400000]\n"
     ]
    }
   ],
   "source": [
    "car_data_sold_wo = car_data_sold[car_data['Selling_Price']<5400000]\n",
    "# car_data_sold_wo = car_data_sold"
   ]
  },
  {
   "cell_type": "code",
   "execution_count": 16,
   "metadata": {},
   "outputs": [
    {
     "data": {
      "text/plain": [
       "(1977, 25)"
      ]
     },
     "execution_count": 16,
     "metadata": {},
     "output_type": "execute_result"
    }
   ],
   "source": [
    "car_data_sold_wo.shape"
   ]
  },
  {
   "cell_type": "code",
   "execution_count": 17,
   "metadata": {},
   "outputs": [
    {
     "data": {
      "text/plain": [
       "(2000, 25)"
      ]
     },
     "execution_count": 17,
     "metadata": {},
     "output_type": "execute_result"
    }
   ],
   "source": [
    "car_data_sold.shape"
   ]
  },
  {
   "cell_type": "code",
   "execution_count": 18,
   "metadata": {},
   "outputs": [],
   "source": [
    "# Logistic regression\n",
    "# Decision Trees\n",
    "# KNN\n",
    "# SVM"
   ]
  },
  {
   "cell_type": "code",
   "execution_count": 19,
   "metadata": {},
   "outputs": [
    {
     "data": {
      "text/html": [
       "<div>\n",
       "<style scoped>\n",
       "    .dataframe tbody tr th:only-of-type {\n",
       "        vertical-align: middle;\n",
       "    }\n",
       "\n",
       "    .dataframe tbody tr th {\n",
       "        vertical-align: top;\n",
       "    }\n",
       "\n",
       "    .dataframe thead th {\n",
       "        text-align: right;\n",
       "    }\n",
       "</style>\n",
       "<table border=\"1\" class=\"dataframe\">\n",
       "  <thead>\n",
       "    <tr style=\"text-align: right;\">\n",
       "      <th></th>\n",
       "      <th>Sales_ID</th>\n",
       "      <th>Year</th>\n",
       "      <th>Selling_Price</th>\n",
       "      <th>km_Driven</th>\n",
       "      <th>Postal_Code</th>\n",
       "      <th>Seats</th>\n",
       "      <th>Mileage_float</th>\n",
       "      <th>Power</th>\n",
       "      <th>Engine_cc</th>\n",
       "    </tr>\n",
       "  </thead>\n",
       "  <tbody>\n",
       "    <tr>\n",
       "      <th>count</th>\n",
       "      <td>1977.000000</td>\n",
       "      <td>1977.000000</td>\n",
       "      <td>1.977000e+03</td>\n",
       "      <td>1.977000e+03</td>\n",
       "      <td>1977.000000</td>\n",
       "      <td>1977.000000</td>\n",
       "      <td>1977.000000</td>\n",
       "      <td>1977.000000</td>\n",
       "      <td>1977.000000</td>\n",
       "    </tr>\n",
       "    <tr>\n",
       "      <th>mean</th>\n",
       "      <td>1032.897825</td>\n",
       "      <td>2013.948407</td>\n",
       "      <td>6.175989e+05</td>\n",
       "      <td>6.935823e+04</td>\n",
       "      <td>505101.611027</td>\n",
       "      <td>5.439049</td>\n",
       "      <td>19.238083</td>\n",
       "      <td>90.863212</td>\n",
       "      <td>1462.588771</td>\n",
       "    </tr>\n",
       "    <tr>\n",
       "      <th>std</th>\n",
       "      <td>594.903020</td>\n",
       "      <td>3.781128</td>\n",
       "      <td>6.949879e+05</td>\n",
       "      <td>5.613005e+04</td>\n",
       "      <td>204710.235574</td>\n",
       "      <td>0.970440</td>\n",
       "      <td>3.998142</td>\n",
       "      <td>34.624049</td>\n",
       "      <td>517.529442</td>\n",
       "    </tr>\n",
       "    <tr>\n",
       "      <th>min</th>\n",
       "      <td>1.000000</td>\n",
       "      <td>1994.000000</td>\n",
       "      <td>3.150400e+04</td>\n",
       "      <td>1.000000e+03</td>\n",
       "      <td>110029.000000</td>\n",
       "      <td>4.000000</td>\n",
       "      <td>0.000000</td>\n",
       "      <td>34.200000</td>\n",
       "      <td>624.000000</td>\n",
       "    </tr>\n",
       "    <tr>\n",
       "      <th>25%</th>\n",
       "      <td>518.000000</td>\n",
       "      <td>2012.000000</td>\n",
       "      <td>2.650000e+05</td>\n",
       "      <td>3.500000e+04</td>\n",
       "      <td>391510.000000</td>\n",
       "      <td>5.000000</td>\n",
       "      <td>16.800000</td>\n",
       "      <td>68.000000</td>\n",
       "      <td>1197.000000</td>\n",
       "    </tr>\n",
       "    <tr>\n",
       "      <th>50%</th>\n",
       "      <td>1029.000000</td>\n",
       "      <td>2015.000000</td>\n",
       "      <td>4.500000e+05</td>\n",
       "      <td>6.000000e+04</td>\n",
       "      <td>524225.000000</td>\n",
       "      <td>5.000000</td>\n",
       "      <td>19.100000</td>\n",
       "      <td>82.000000</td>\n",
       "      <td>1248.000000</td>\n",
       "    </tr>\n",
       "    <tr>\n",
       "      <th>75%</th>\n",
       "      <td>1550.000000</td>\n",
       "      <td>2017.000000</td>\n",
       "      <td>6.700000e+05</td>\n",
       "      <td>9.520000e+04</td>\n",
       "      <td>680001.000000</td>\n",
       "      <td>5.000000</td>\n",
       "      <td>22.000000</td>\n",
       "      <td>102.000000</td>\n",
       "      <td>1582.000000</td>\n",
       "    </tr>\n",
       "    <tr>\n",
       "      <th>max</th>\n",
       "      <td>2061.000000</td>\n",
       "      <td>2020.000000</td>\n",
       "      <td>5.150000e+06</td>\n",
       "      <td>1.500000e+06</td>\n",
       "      <td>834001.000000</td>\n",
       "      <td>10.000000</td>\n",
       "      <td>33.440000</td>\n",
       "      <td>280.000000</td>\n",
       "      <td>3604.000000</td>\n",
       "    </tr>\n",
       "  </tbody>\n",
       "</table>\n",
       "</div>"
      ],
      "text/plain": [
       "          Sales_ID         Year  Selling_Price     km_Driven    Postal_Code  \\\n",
       "count  1977.000000  1977.000000   1.977000e+03  1.977000e+03    1977.000000   \n",
       "mean   1032.897825  2013.948407   6.175989e+05  6.935823e+04  505101.611027   \n",
       "std     594.903020     3.781128   6.949879e+05  5.613005e+04  204710.235574   \n",
       "min       1.000000  1994.000000   3.150400e+04  1.000000e+03  110029.000000   \n",
       "25%     518.000000  2012.000000   2.650000e+05  3.500000e+04  391510.000000   \n",
       "50%    1029.000000  2015.000000   4.500000e+05  6.000000e+04  524225.000000   \n",
       "75%    1550.000000  2017.000000   6.700000e+05  9.520000e+04  680001.000000   \n",
       "max    2061.000000  2020.000000   5.150000e+06  1.500000e+06  834001.000000   \n",
       "\n",
       "             Seats  Mileage_float        Power    Engine_cc  \n",
       "count  1977.000000    1977.000000  1977.000000  1977.000000  \n",
       "mean      5.439049      19.238083    90.863212  1462.588771  \n",
       "std       0.970440       3.998142    34.624049   517.529442  \n",
       "min       4.000000       0.000000    34.200000   624.000000  \n",
       "25%       5.000000      16.800000    68.000000  1197.000000  \n",
       "50%       5.000000      19.100000    82.000000  1248.000000  \n",
       "75%       5.000000      22.000000   102.000000  1582.000000  \n",
       "max      10.000000      33.440000   280.000000  3604.000000  "
      ]
     },
     "execution_count": 19,
     "metadata": {},
     "output_type": "execute_result"
    }
   ],
   "source": [
    "car_data_sold_wo.describe()"
   ]
  },
  {
   "cell_type": "code",
   "execution_count": 20,
   "metadata": {},
   "outputs": [
    {
     "name": "stdout",
     "output_type": "stream",
     "text": [
      "<class 'pandas.core.frame.DataFrame'>\n",
      "Int64Index: 1977 entries, 0 to 1999\n",
      "Data columns (total 76 columns):\n",
      " #   Column                        Non-Null Count  Dtype  \n",
      "---  ------                        --------------  -----  \n",
      " 0   Year                          1977 non-null   int64  \n",
      " 1   Selling_Price                 1977 non-null   int64  \n",
      " 2   km_Driven                     1977 non-null   int64  \n",
      " 3   Seats                         1977 non-null   int64  \n",
      " 4   Mileage_float                 1977 non-null   float64\n",
      " 5   Power                         1977 non-null   float64\n",
      " 6   Engine_cc                     1977 non-null   int32  \n",
      " 7   Fuel_CNG                      1977 non-null   uint8  \n",
      " 8   Fuel_Diesel                   1977 non-null   uint8  \n",
      " 9   Fuel_LPG                      1977 non-null   uint8  \n",
      " 10  Fuel_Petrol                   1977 non-null   uint8  \n",
      " 11  Seller_Type_Dealer            1977 non-null   uint8  \n",
      " 12  Seller_Type_Individual        1977 non-null   uint8  \n",
      " 13  Seller_Type_Trustmark Dealer  1977 non-null   uint8  \n",
      " 14  Transmission_Automatic        1977 non-null   uint8  \n",
      " 15  Transmission_Manual           1977 non-null   uint8  \n",
      " 16  Owner_First Owner             1977 non-null   uint8  \n",
      " 17  Owner_Fourth & Above Owner    1977 non-null   uint8  \n",
      " 18  Owner_Second Owner            1977 non-null   uint8  \n",
      " 19  Owner_Third Owner             1977 non-null   uint8  \n",
      " 20  City_Name_Ahmedabad           1977 non-null   uint8  \n",
      " 21  City_Name_Aurangabad          1977 non-null   uint8  \n",
      " 22  City_Name_Bangalore           1977 non-null   uint8  \n",
      " 23  City_Name_Bhubaneshwar        1977 non-null   uint8  \n",
      " 24  City_Name_Chennai             1977 non-null   uint8  \n",
      " 25  City_Name_Coimbatore          1977 non-null   uint8  \n",
      " 26  City_Name_Dehradun            1977 non-null   uint8  \n",
      " 27  City_Name_Delhi               1977 non-null   uint8  \n",
      " 28  City_Name_Gangtok             1977 non-null   uint8  \n",
      " 29  City_Name_Hyderabad           1977 non-null   uint8  \n",
      " 30  City_Name_Indore              1977 non-null   uint8  \n",
      " 31  City_Name_Jaipur              1977 non-null   uint8  \n",
      " 32  City_Name_Jamshedpur          1977 non-null   uint8  \n",
      " 33  City_Name_Kochi               1977 non-null   uint8  \n",
      " 34  City_Name_Kolkata             1977 non-null   uint8  \n",
      " 35  City_Name_Ludhiana            1977 non-null   uint8  \n",
      " 36  City_Name_Mangalore           1977 non-null   uint8  \n",
      " 37  City_Name_Mumbai              1977 non-null   uint8  \n",
      " 38  City_Name_Mysore              1977 non-null   uint8  \n",
      " 39  City_Name_Nellore             1977 non-null   uint8  \n",
      " 40  City_Name_Noida               1977 non-null   uint8  \n",
      " 41  City_Name_Patna               1977 non-null   uint8  \n",
      " 42  City_Name_Pune                1977 non-null   uint8  \n",
      " 43  City_Name_Ranchi              1977 non-null   uint8  \n",
      " 44  City_Name_Surat               1977 non-null   uint8  \n",
      " 45  City_Name_Thrissur            1977 non-null   uint8  \n",
      " 46  City_Name_Vadodara            1977 non-null   uint8  \n",
      " 47  City_Name_Vellore             1977 non-null   uint8  \n",
      " 48  City_Name_kanpur              1977 non-null   uint8  \n",
      " 49  Brand_Audi                    1977 non-null   uint8  \n",
      " 50  Brand_BMW                     1977 non-null   uint8  \n",
      " 51  Brand_Chevrolet               1977 non-null   uint8  \n",
      " 52  Brand_Daewoo                  1977 non-null   uint8  \n",
      " 53  Brand_Datsun                  1977 non-null   uint8  \n",
      " 54  Brand_Fiat                    1977 non-null   uint8  \n",
      " 55  Brand_Force                   1977 non-null   uint8  \n",
      " 56  Brand_Ford                    1977 non-null   uint8  \n",
      " 57  Brand_Honda                   1977 non-null   uint8  \n",
      " 58  Brand_Hyundai                 1977 non-null   uint8  \n",
      " 59  Brand_Jaguar                  1977 non-null   uint8  \n",
      " 60  Brand_Jeep                    1977 non-null   uint8  \n",
      " 61  Brand_Kia                     1977 non-null   uint8  \n",
      " 62  Brand_Land                    1977 non-null   uint8  \n",
      " 63  Brand_Lexus                   1977 non-null   uint8  \n",
      " 64  Brand_MG                      1977 non-null   uint8  \n",
      " 65  Brand_Mahindra                1977 non-null   uint8  \n",
      " 66  Brand_Maruti                  1977 non-null   uint8  \n",
      " 67  Brand_Mercedes-Benz           1977 non-null   uint8  \n",
      " 68  Brand_Mitsubishi              1977 non-null   uint8  \n",
      " 69  Brand_Nissan                  1977 non-null   uint8  \n",
      " 70  Brand_Renault                 1977 non-null   uint8  \n",
      " 71  Brand_Skoda                   1977 non-null   uint8  \n",
      " 72  Brand_Tata                    1977 non-null   uint8  \n",
      " 73  Brand_Toyota                  1977 non-null   uint8  \n",
      " 74  Brand_Volkswagen              1977 non-null   uint8  \n",
      " 75  Brand_Volvo                   1977 non-null   uint8  \n",
      "dtypes: float64(2), int32(1), int64(4), uint8(69)\n",
      "memory usage: 249.1 KB\n"
     ]
    }
   ],
   "source": [
    "car_data_sold_wo = car_data_sold_wo.drop(['Sales_ID','Name','City_Code','State_Code','Postal_Code','Sold','Mileage','Engine','Max_Power','Region_Code','State_Name','Region'],axis = 1)\n",
    "car_data_sold_wo = pd.get_dummies(car_data_sold_wo)\n",
    "car_data_sold_wo.info()"
   ]
  },
  {
   "cell_type": "code",
   "execution_count": 21,
   "metadata": {},
   "outputs": [],
   "source": [
    "target_col = 'Selling_Price'\n",
    "input_cols = car_data_sold_wo.drop(target_col, axis=1).columns\n",
    "train_x, test_x, train_y, test_y = train_test_split(car_data_sold_wo[input_cols],\n",
    "                                                    car_data_sold_wo[target_col],\n",
    "                                                    test_size=0.2,\n",
    "                                                    random_state=123)\n",
    "train_x.shape, test_x.shape, train_y.shape, test_y.shape\n",
    "X_train = train_x\n",
    "y_train = train_y\n",
    "X_test = test_x\n",
    "y_test = test_y"
   ]
  },
  {
   "cell_type": "code",
   "execution_count": 22,
   "metadata": {},
   "outputs": [],
   "source": [
    "# scaler = StandardScaler().fit(train_x)\n",
    "# train_x_standard = pd.DataFrame(scaler.transform(train_x),\n",
    "#                               columns=train_x.columns,\n",
    "#                               index=train_x.index)\n",
    "# test_x_standard = pd.DataFrame(scaler.transform(test_x),\n",
    "#                               columns=test_x.columns,\n",
    "#                               index=test_x.index)\n",
    "# train_x = train_x_standard\n",
    "# test_x = test_x_standard\n",
    "# X_train = train_x\n",
    "# y_train = train_y\n",
    "# X_test = test_x\n",
    "# y_test = test_y"
   ]
  },
  {
   "cell_type": "code",
   "execution_count": 23,
   "metadata": {},
   "outputs": [
    {
     "name": "stdout",
     "output_type": "stream",
     "text": [
      "Intercept:  -75515175.46575655\n",
      "Coefficients:  [ 3.77044573e+04 -6.40613175e-01 -6.18573057e+03  5.28584506e+03\n",
      "  5.94130193e+03  9.70867536e+01 -1.26190968e+05  6.16613465e+04\n",
      "  7.15876591e+04 -7.05803801e+03 -2.38744145e+03  2.48788618e+04\n",
      " -2.24914204e+04  4.95686661e+04 -4.95686661e+04  2.58215089e+04\n",
      "  2.76892353e+04 -2.79667077e+04 -2.55440364e+04 -5.18734584e+04\n",
      " -8.96776128e+03 -1.41096045e+03 -4.26817252e+04  3.22870920e+03\n",
      " -5.91446984e+03  3.26737516e+04 -1.36954289e+04  8.85221209e+03\n",
      "  2.84690769e+04 -7.45954154e+04  1.20043069e+04  2.15812899e+04\n",
      "  3.55016368e+04 -4.77630925e+04  3.95776940e+03 -7.26828891e+03\n",
      "  1.51813973e+04 -1.92400881e+04  5.55240571e+04  3.16440227e+04\n",
      "  3.38118434e+04  2.18967785e+04  4.25196329e+03  9.28704708e+03\n",
      " -4.80292088e+03  1.85512182e+04 -2.91688548e+04 -2.90346157e+04\n",
      "  8.36309361e+05  7.78278831e+05 -7.35111893e+05 -2.36874630e+05\n",
      " -7.58281072e+05 -7.10835611e+05 -4.47124360e+05 -6.59097723e+05\n",
      " -6.45439495e+05 -6.35447866e+05  1.00111758e+06  1.62396957e+05\n",
      "  2.52552579e+05  2.67371970e+06  2.87183296e+06  1.45948630e+05\n",
      " -6.22806093e+05 -5.65618997e+05  5.60437631e+05 -5.80458388e+05\n",
      " -6.85912213e+05 -6.73713797e+05 -6.65346156e+05 -7.60531564e+05\n",
      " -2.72349209e+05 -7.24826446e+05  1.09718127e+06]\n",
      "R2 Score:  0.8184746679838807\n"
     ]
    },
    {
     "data": {
      "text/plain": [
       "<matplotlib.collections.PathCollection at 0x1f71a4ce3d0>"
      ]
     },
     "execution_count": 23,
     "metadata": {},
     "output_type": "execute_result"
    },
    {
     "data": {
      "image/png": "[encoded data removed]",
      "text/plain": [
       "<Figure size 432x288 with 1 Axes>"
      ]
     },
     "metadata": {
      "needs_background": "light"
     },
     "output_type": "display_data"
    }
   ],
   "source": [
    "## Linear Regreesion in other file will merge from there\n",
    "lr = LinearRegression()\n",
    "lr.fit(X_train,y_train)\n",
    "print(\"Intercept: \",lr.intercept_)\n",
    "print(\"Coefficients: \",lr.coef_)\n",
    "\n",
    "# predict the values from model on test set\n",
    "y_pred = lr.predict(X_test)\n",
    "\n",
    "# evaluate the model using R2 score\n",
    "print(\"R2 Score: \", r2_score(y_test, y_pred))\n",
    "plt.scatter(y_test,  y_pred)\n",
    "# plt.plot(y_test, y_pred,color='r')"
   ]
  },
  {
   "cell_type": "code",
   "execution_count": 24,
   "metadata": {},
   "outputs": [
    {
     "name": "stderr",
     "output_type": "stream",
     "text": [
      "C:\\Users\\lbansal\\Anaconda3\\lib\\site-packages\\sklearn\\linear_model\\_logistic.py:763: ConvergenceWarning: lbfgs failed to converge (status=1):\n",
      "STOP: TOTAL NO. of ITERATIONS REACHED LIMIT.\n",
      "\n",
      "Increase the number of iterations (max_iter) or scale the data as shown in:\n",
      "    https://scikit-learn.org/stable/modules/preprocessing.html\n",
      "Please also refer to the documentation for alternative solver options:\n",
      "    https://scikit-learn.org/stable/modules/linear_model.html#logistic-regression\n",
      "  n_iter_i = _check_optimize_result(\n"
     ]
    },
    {
     "data": {
      "text/plain": [
       "0.027777777777777776"
      ]
     },
     "execution_count": 24,
     "metadata": {},
     "output_type": "execute_result"
    }
   ],
   "source": [
    "# Build Logistic Regression Classifier\n",
    "logreg = LogisticRegression(random_state=0, multi_class='auto', solver='lbfgs')\n",
    "logreg.fit(train_x, train_y)\n",
    "y_pred = logreg.predict(test_x)\n",
    "accuracy_score(test_y, y_pred)\n",
    "# y_pred"
   ]
  },
  {
   "cell_type": "code",
   "execution_count": 25,
   "metadata": {},
   "outputs": [],
   "source": [
    "# confusion_matrix(test_y, y_pred)"
   ]
  },
  {
   "cell_type": "code",
   "execution_count": 61,
   "metadata": {},
   "outputs": [
    {
     "ename": "ValueError",
     "evalue": "could not convert string to float: 'Diesel'",
     "output_type": "error",
     "traceback": [
      "\u001b[1;31m---------------------------------------------------------------------------\u001b[0m",
      "\u001b[1;31mValueError\u001b[0m                                Traceback (most recent call last)",
      "\u001b[1;32m~\\AppData\\Local\\Temp/ipykernel_21144/4178780997.py\u001b[0m in \u001b[0;36m<module>\u001b[1;34m\u001b[0m\n\u001b[0;32m     11\u001b[0m \u001b[1;31m# Build Decision Tree Classifier\u001b[0m\u001b[1;33m\u001b[0m\u001b[1;33m\u001b[0m\u001b[0m\n\u001b[0;32m     12\u001b[0m \u001b[0mdtc\u001b[0m \u001b[1;33m=\u001b[0m \u001b[0mDecisionTreeClassifier\u001b[0m\u001b[1;33m(\u001b[0m\u001b[0mrandom_state\u001b[0m\u001b[1;33m=\u001b[0m\u001b[1;36m1\u001b[0m\u001b[1;33m)\u001b[0m\u001b[1;33m\u001b[0m\u001b[1;33m\u001b[0m\u001b[0m\n\u001b[1;32m---> 13\u001b[1;33m \u001b[0mdtc\u001b[0m\u001b[1;33m.\u001b[0m\u001b[0mfit\u001b[0m\u001b[1;33m(\u001b[0m\u001b[0mtrain_x\u001b[0m\u001b[1;33m,\u001b[0m\u001b[0mtrain_y\u001b[0m\u001b[1;33m)\u001b[0m\u001b[1;33m\u001b[0m\u001b[1;33m\u001b[0m\u001b[0m\n\u001b[0m\u001b[0;32m     14\u001b[0m \u001b[1;31m# Predicting the Test set results\u001b[0m\u001b[1;33m\u001b[0m\u001b[1;33m\u001b[0m\u001b[0m\n\u001b[0;32m     15\u001b[0m \u001b[0my_pred\u001b[0m \u001b[1;33m=\u001b[0m \u001b[0mdtc\u001b[0m\u001b[1;33m.\u001b[0m\u001b[0mpredict\u001b[0m\u001b[1;33m(\u001b[0m\u001b[0mtest_x\u001b[0m\u001b[1;33m)\u001b[0m\u001b[1;33m\u001b[0m\u001b[1;33m\u001b[0m\u001b[0m\n",
      "\u001b[1;32m~\\Anaconda3\\lib\\site-packages\\sklearn\\tree\\_classes.py\u001b[0m in \u001b[0;36mfit\u001b[1;34m(self, X, y, sample_weight, check_input, X_idx_sorted)\u001b[0m\n\u001b[0;32m    901\u001b[0m         \"\"\"\n\u001b[0;32m    902\u001b[0m \u001b[1;33m\u001b[0m\u001b[0m\n\u001b[1;32m--> 903\u001b[1;33m         super().fit(\n\u001b[0m\u001b[0;32m    904\u001b[0m             \u001b[0mX\u001b[0m\u001b[1;33m,\u001b[0m \u001b[0my\u001b[0m\u001b[1;33m,\u001b[0m\u001b[1;33m\u001b[0m\u001b[1;33m\u001b[0m\u001b[0m\n\u001b[0;32m    905\u001b[0m             \u001b[0msample_weight\u001b[0m\u001b[1;33m=\u001b[0m\u001b[0msample_weight\u001b[0m\u001b[1;33m,\u001b[0m\u001b[1;33m\u001b[0m\u001b[1;33m\u001b[0m\u001b[0m\n",
      "\u001b[1;32m~\\Anaconda3\\lib\\site-packages\\sklearn\\tree\\_classes.py\u001b[0m in \u001b[0;36mfit\u001b[1;34m(self, X, y, sample_weight, check_input, X_idx_sorted)\u001b[0m\n\u001b[0;32m    155\u001b[0m             \u001b[0mcheck_X_params\u001b[0m \u001b[1;33m=\u001b[0m \u001b[0mdict\u001b[0m\u001b[1;33m(\u001b[0m\u001b[0mdtype\u001b[0m\u001b[1;33m=\u001b[0m\u001b[0mDTYPE\u001b[0m\u001b[1;33m,\u001b[0m \u001b[0maccept_sparse\u001b[0m\u001b[1;33m=\u001b[0m\u001b[1;34m\"csc\"\u001b[0m\u001b[1;33m)\u001b[0m\u001b[1;33m\u001b[0m\u001b[1;33m\u001b[0m\u001b[0m\n\u001b[0;32m    156\u001b[0m             \u001b[0mcheck_y_params\u001b[0m \u001b[1;33m=\u001b[0m \u001b[0mdict\u001b[0m\u001b[1;33m(\u001b[0m\u001b[0mensure_2d\u001b[0m\u001b[1;33m=\u001b[0m\u001b[1;32mFalse\u001b[0m\u001b[1;33m,\u001b[0m \u001b[0mdtype\u001b[0m\u001b[1;33m=\u001b[0m\u001b[1;32mNone\u001b[0m\u001b[1;33m)\u001b[0m\u001b[1;33m\u001b[0m\u001b[1;33m\u001b[0m\u001b[0m\n\u001b[1;32m--> 157\u001b[1;33m             X, y = self._validate_data(X, y,\n\u001b[0m\u001b[0;32m    158\u001b[0m                                        validate_separately=(check_X_params,\n\u001b[0;32m    159\u001b[0m                                                             check_y_params))\n",
      "\u001b[1;32m~\\Anaconda3\\lib\\site-packages\\sklearn\\base.py\u001b[0m in \u001b[0;36m_validate_data\u001b[1;34m(self, X, y, reset, validate_separately, **check_params)\u001b[0m\n\u001b[0;32m    428\u001b[0m                 \u001b[1;31m# :(\u001b[0m\u001b[1;33m\u001b[0m\u001b[1;33m\u001b[0m\u001b[0m\n\u001b[0;32m    429\u001b[0m                 \u001b[0mcheck_X_params\u001b[0m\u001b[1;33m,\u001b[0m \u001b[0mcheck_y_params\u001b[0m \u001b[1;33m=\u001b[0m \u001b[0mvalidate_separately\u001b[0m\u001b[1;33m\u001b[0m\u001b[1;33m\u001b[0m\u001b[0m\n\u001b[1;32m--> 430\u001b[1;33m                 \u001b[0mX\u001b[0m \u001b[1;33m=\u001b[0m \u001b[0mcheck_array\u001b[0m\u001b[1;33m(\u001b[0m\u001b[0mX\u001b[0m\u001b[1;33m,\u001b[0m \u001b[1;33m**\u001b[0m\u001b[0mcheck_X_params\u001b[0m\u001b[1;33m)\u001b[0m\u001b[1;33m\u001b[0m\u001b[1;33m\u001b[0m\u001b[0m\n\u001b[0m\u001b[0;32m    431\u001b[0m                 \u001b[0my\u001b[0m \u001b[1;33m=\u001b[0m \u001b[0mcheck_array\u001b[0m\u001b[1;33m(\u001b[0m\u001b[0my\u001b[0m\u001b[1;33m,\u001b[0m \u001b[1;33m**\u001b[0m\u001b[0mcheck_y_params\u001b[0m\u001b[1;33m)\u001b[0m\u001b[1;33m\u001b[0m\u001b[1;33m\u001b[0m\u001b[0m\n\u001b[0;32m    432\u001b[0m             \u001b[1;32melse\u001b[0m\u001b[1;33m:\u001b[0m\u001b[1;33m\u001b[0m\u001b[1;33m\u001b[0m\u001b[0m\n",
      "\u001b[1;32m~\\Anaconda3\\lib\\site-packages\\sklearn\\utils\\validation.py\u001b[0m in \u001b[0;36minner_f\u001b[1;34m(*args, **kwargs)\u001b[0m\n\u001b[0;32m     61\u001b[0m             \u001b[0mextra_args\u001b[0m \u001b[1;33m=\u001b[0m \u001b[0mlen\u001b[0m\u001b[1;33m(\u001b[0m\u001b[0margs\u001b[0m\u001b[1;33m)\u001b[0m \u001b[1;33m-\u001b[0m \u001b[0mlen\u001b[0m\u001b[1;33m(\u001b[0m\u001b[0mall_args\u001b[0m\u001b[1;33m)\u001b[0m\u001b[1;33m\u001b[0m\u001b[1;33m\u001b[0m\u001b[0m\n\u001b[0;32m     62\u001b[0m             \u001b[1;32mif\u001b[0m \u001b[0mextra_args\u001b[0m \u001b[1;33m<=\u001b[0m \u001b[1;36m0\u001b[0m\u001b[1;33m:\u001b[0m\u001b[1;33m\u001b[0m\u001b[1;33m\u001b[0m\u001b[0m\n\u001b[1;32m---> 63\u001b[1;33m                 \u001b[1;32mreturn\u001b[0m \u001b[0mf\u001b[0m\u001b[1;33m(\u001b[0m\u001b[1;33m*\u001b[0m\u001b[0margs\u001b[0m\u001b[1;33m,\u001b[0m \u001b[1;33m**\u001b[0m\u001b[0mkwargs\u001b[0m\u001b[1;33m)\u001b[0m\u001b[1;33m\u001b[0m\u001b[1;33m\u001b[0m\u001b[0m\n\u001b[0m\u001b[0;32m     64\u001b[0m \u001b[1;33m\u001b[0m\u001b[0m\n\u001b[0;32m     65\u001b[0m             \u001b[1;31m# extra_args > 0\u001b[0m\u001b[1;33m\u001b[0m\u001b[1;33m\u001b[0m\u001b[0m\n",
      "\u001b[1;32m~\\Anaconda3\\lib\\site-packages\\sklearn\\utils\\validation.py\u001b[0m in \u001b[0;36mcheck_array\u001b[1;34m(array, accept_sparse, accept_large_sparse, dtype, order, copy, force_all_finite, ensure_2d, allow_nd, ensure_min_samples, ensure_min_features, estimator)\u001b[0m\n\u001b[0;32m    671\u001b[0m                     \u001b[0marray\u001b[0m \u001b[1;33m=\u001b[0m \u001b[0marray\u001b[0m\u001b[1;33m.\u001b[0m\u001b[0mastype\u001b[0m\u001b[1;33m(\u001b[0m\u001b[0mdtype\u001b[0m\u001b[1;33m,\u001b[0m \u001b[0mcasting\u001b[0m\u001b[1;33m=\u001b[0m\u001b[1;34m\"unsafe\"\u001b[0m\u001b[1;33m,\u001b[0m \u001b[0mcopy\u001b[0m\u001b[1;33m=\u001b[0m\u001b[1;32mFalse\u001b[0m\u001b[1;33m)\u001b[0m\u001b[1;33m\u001b[0m\u001b[1;33m\u001b[0m\u001b[0m\n\u001b[0;32m    672\u001b[0m                 \u001b[1;32melse\u001b[0m\u001b[1;33m:\u001b[0m\u001b[1;33m\u001b[0m\u001b[1;33m\u001b[0m\u001b[0m\n\u001b[1;32m--> 673\u001b[1;33m                     \u001b[0marray\u001b[0m \u001b[1;33m=\u001b[0m \u001b[0mnp\u001b[0m\u001b[1;33m.\u001b[0m\u001b[0masarray\u001b[0m\u001b[1;33m(\u001b[0m\u001b[0marray\u001b[0m\u001b[1;33m,\u001b[0m \u001b[0morder\u001b[0m\u001b[1;33m=\u001b[0m\u001b[0morder\u001b[0m\u001b[1;33m,\u001b[0m \u001b[0mdtype\u001b[0m\u001b[1;33m=\u001b[0m\u001b[0mdtype\u001b[0m\u001b[1;33m)\u001b[0m\u001b[1;33m\u001b[0m\u001b[1;33m\u001b[0m\u001b[0m\n\u001b[0m\u001b[0;32m    674\u001b[0m             \u001b[1;32mexcept\u001b[0m \u001b[0mComplexWarning\u001b[0m \u001b[1;32mas\u001b[0m \u001b[0mcomplex_warning\u001b[0m\u001b[1;33m:\u001b[0m\u001b[1;33m\u001b[0m\u001b[1;33m\u001b[0m\u001b[0m\n\u001b[0;32m    675\u001b[0m                 raise ValueError(\"Complex data not supported\\n\"\n",
      "\u001b[1;32m~\\Anaconda3\\lib\\site-packages\\numpy\\core\\_asarray.py\u001b[0m in \u001b[0;36masarray\u001b[1;34m(a, dtype, order, like)\u001b[0m\n\u001b[0;32m    100\u001b[0m         \u001b[1;32mreturn\u001b[0m \u001b[0m_asarray_with_like\u001b[0m\u001b[1;33m(\u001b[0m\u001b[0ma\u001b[0m\u001b[1;33m,\u001b[0m \u001b[0mdtype\u001b[0m\u001b[1;33m=\u001b[0m\u001b[0mdtype\u001b[0m\u001b[1;33m,\u001b[0m \u001b[0morder\u001b[0m\u001b[1;33m=\u001b[0m\u001b[0morder\u001b[0m\u001b[1;33m,\u001b[0m \u001b[0mlike\u001b[0m\u001b[1;33m=\u001b[0m\u001b[0mlike\u001b[0m\u001b[1;33m)\u001b[0m\u001b[1;33m\u001b[0m\u001b[1;33m\u001b[0m\u001b[0m\n\u001b[0;32m    101\u001b[0m \u001b[1;33m\u001b[0m\u001b[0m\n\u001b[1;32m--> 102\u001b[1;33m     \u001b[1;32mreturn\u001b[0m \u001b[0marray\u001b[0m\u001b[1;33m(\u001b[0m\u001b[0ma\u001b[0m\u001b[1;33m,\u001b[0m \u001b[0mdtype\u001b[0m\u001b[1;33m,\u001b[0m \u001b[0mcopy\u001b[0m\u001b[1;33m=\u001b[0m\u001b[1;32mFalse\u001b[0m\u001b[1;33m,\u001b[0m \u001b[0morder\u001b[0m\u001b[1;33m=\u001b[0m\u001b[0morder\u001b[0m\u001b[1;33m)\u001b[0m\u001b[1;33m\u001b[0m\u001b[1;33m\u001b[0m\u001b[0m\n\u001b[0m\u001b[0;32m    103\u001b[0m \u001b[1;33m\u001b[0m\u001b[0m\n\u001b[0;32m    104\u001b[0m \u001b[1;33m\u001b[0m\u001b[0m\n",
      "\u001b[1;32m~\\Anaconda3\\lib\\site-packages\\pandas\\core\\generic.py\u001b[0m in \u001b[0;36m__array__\u001b[1;34m(self, dtype)\u001b[0m\n\u001b[0;32m   1991\u001b[0m \u001b[1;33m\u001b[0m\u001b[0m\n\u001b[0;32m   1992\u001b[0m     \u001b[1;32mdef\u001b[0m \u001b[0m__array__\u001b[0m\u001b[1;33m(\u001b[0m\u001b[0mself\u001b[0m\u001b[1;33m,\u001b[0m \u001b[0mdtype\u001b[0m\u001b[1;33m:\u001b[0m \u001b[0mNpDtype\u001b[0m \u001b[1;33m|\u001b[0m \u001b[1;32mNone\u001b[0m \u001b[1;33m=\u001b[0m \u001b[1;32mNone\u001b[0m\u001b[1;33m)\u001b[0m \u001b[1;33m->\u001b[0m \u001b[0mnp\u001b[0m\u001b[1;33m.\u001b[0m\u001b[0mndarray\u001b[0m\u001b[1;33m:\u001b[0m\u001b[1;33m\u001b[0m\u001b[1;33m\u001b[0m\u001b[0m\n\u001b[1;32m-> 1993\u001b[1;33m         \u001b[1;32mreturn\u001b[0m \u001b[0mnp\u001b[0m\u001b[1;33m.\u001b[0m\u001b[0masarray\u001b[0m\u001b[1;33m(\u001b[0m\u001b[0mself\u001b[0m\u001b[1;33m.\u001b[0m\u001b[0m_values\u001b[0m\u001b[1;33m,\u001b[0m \u001b[0mdtype\u001b[0m\u001b[1;33m=\u001b[0m\u001b[0mdtype\u001b[0m\u001b[1;33m)\u001b[0m\u001b[1;33m\u001b[0m\u001b[1;33m\u001b[0m\u001b[0m\n\u001b[0m\u001b[0;32m   1994\u001b[0m \u001b[1;33m\u001b[0m\u001b[0m\n\u001b[0;32m   1995\u001b[0m     def __array_wrap__(\n",
      "\u001b[1;32m~\\Anaconda3\\lib\\site-packages\\numpy\\core\\_asarray.py\u001b[0m in \u001b[0;36masarray\u001b[1;34m(a, dtype, order, like)\u001b[0m\n\u001b[0;32m    100\u001b[0m         \u001b[1;32mreturn\u001b[0m \u001b[0m_asarray_with_like\u001b[0m\u001b[1;33m(\u001b[0m\u001b[0ma\u001b[0m\u001b[1;33m,\u001b[0m \u001b[0mdtype\u001b[0m\u001b[1;33m=\u001b[0m\u001b[0mdtype\u001b[0m\u001b[1;33m,\u001b[0m \u001b[0morder\u001b[0m\u001b[1;33m=\u001b[0m\u001b[0morder\u001b[0m\u001b[1;33m,\u001b[0m \u001b[0mlike\u001b[0m\u001b[1;33m=\u001b[0m\u001b[0mlike\u001b[0m\u001b[1;33m)\u001b[0m\u001b[1;33m\u001b[0m\u001b[1;33m\u001b[0m\u001b[0m\n\u001b[0;32m    101\u001b[0m \u001b[1;33m\u001b[0m\u001b[0m\n\u001b[1;32m--> 102\u001b[1;33m     \u001b[1;32mreturn\u001b[0m \u001b[0marray\u001b[0m\u001b[1;33m(\u001b[0m\u001b[0ma\u001b[0m\u001b[1;33m,\u001b[0m \u001b[0mdtype\u001b[0m\u001b[1;33m,\u001b[0m \u001b[0mcopy\u001b[0m\u001b[1;33m=\u001b[0m\u001b[1;32mFalse\u001b[0m\u001b[1;33m,\u001b[0m \u001b[0morder\u001b[0m\u001b[1;33m=\u001b[0m\u001b[0morder\u001b[0m\u001b[1;33m)\u001b[0m\u001b[1;33m\u001b[0m\u001b[1;33m\u001b[0m\u001b[0m\n\u001b[0m\u001b[0;32m    103\u001b[0m \u001b[1;33m\u001b[0m\u001b[0m\n\u001b[0;32m    104\u001b[0m \u001b[1;33m\u001b[0m\u001b[0m\n",
      "\u001b[1;31mValueError\u001b[0m: could not convert string to float: 'Diesel'"
     ]
    }
   ],
   "source": [
    "# car_data_dec = car_data\n",
    "car_data_sold_dec = car_data.drop(['Sales_ID','Name','City_Code','State_Code','Postal_Code','Sold','Mileage','Engine','Max_Power','Region_Code','State_Name','Region'],axis = 1)\n",
    "car_data_sold_dec = pd.get_dummies(car_data_sold_dec)\n",
    "# car_data_sold_wo.info()\n",
    "target_col = 'Selling_Price'\n",
    "input_cols = car_data_sold_wo.drop(target_col, axis=1).columns\n",
    "train_x, test_x, train_y, test_y = train_test_split(car_data_sold_wo[input_cols],\n",
    "                                                    car_data_sold_wo[target_col],\n",
    "                                                    test_size=0.2,\n",
    "                                                    random_state=123)\n",
    "# Build Decision Tree Classifier\n",
    "dtc = DecisionTreeClassifier(random_state=1)\n",
    "dtc.fit(train_x,train_y)\n",
    "# Predicting the Test set results\n",
    "y_pred = dtc.predict(test_x)\n",
    "# Predict probabilities\n",
    "# probs_y = dtc.predict_proba(test_x)\n",
    "# probs_y = np.round(probs_y, 2)\n",
    "from sklearn.metrics import confusion_matrix, precision_score, recall_score, accuracy_score, f1_score\n",
    "# cm = confusion_matrix(test_y, y_pred)\n",
    "# print(cm)\n",
    "print('Precision: %.3f' % precision_score(test_y, y_pred, average='weighted'))\n",
    "print('Recall: %.3f' % recall_score(test_y, y_pred, average='weighted'))\n",
    "print('Accuracy: %.3f' % accuracy_score(test_y, y_pred))\n",
    "print('F1 Score: %.3f' % f1_score(test_y, y_pred, average='weighted'))\n",
    "print(y_pred)\n",
    "print(test_y)"
   ]
  },
  {
   "cell_type": "code",
   "execution_count": 27,
   "metadata": {},
   "outputs": [
    {
     "name": "stdout",
     "output_type": "stream",
     "text": [
      "[[0 0 1 ... 0 0 0]\n",
      " [0 0 0 ... 0 0 0]\n",
      " [0 0 0 ... 0 0 0]\n",
      " ...\n",
      " [0 0 0 ... 3 0 0]\n",
      " [0 0 0 ... 0 0 0]\n",
      " [0 0 0 ... 0 0 0]]\n",
      "Precision: 0.067\n",
      "Recall: 0.068\n",
      "Accuracy: 0.068\n",
      "F1 Score: 0.064\n"
     ]
    },
    {
     "name": "stderr",
     "output_type": "stream",
     "text": [
      "C:\\Users\\lbansal\\Anaconda3\\lib\\site-packages\\sklearn\\metrics\\_classification.py:1248: UndefinedMetricWarning: Precision is ill-defined and being set to 0.0 in labels with no predicted samples. Use `zero_division` parameter to control this behavior.\n",
      "  _warn_prf(average, modifier, msg_start, len(result))\n",
      "C:\\Users\\lbansal\\Anaconda3\\lib\\site-packages\\sklearn\\metrics\\_classification.py:1248: UndefinedMetricWarning: Recall is ill-defined and being set to 0.0 in labels with no true samples. Use `zero_division` parameter to control this behavior.\n",
      "  _warn_prf(average, modifier, msg_start, len(result))\n"
     ]
    }
   ],
   "source": [
    "# Build kNN Classifier\n",
    "knn = KNeighborsClassifier()\n",
    "knn.fit(train_x, train_y)\n",
    "# Predicting the Test set results\n",
    "y_pred_best = knn.predict(test_x)\n",
    "# Predict probabilities\n",
    "probs_y_best = knn.predict_proba(test_x)\n",
    "probs_y_best = np.round(probs_y_best, 2)\n",
    "from sklearn.metrics import confusion_matrix, precision_score, recall_score, accuracy_score, f1_score\n",
    "cm = confusion_matrix(test_y, y_pred_best)\n",
    "print(cm)\n",
    "print('Precision: %.3f' % precision_score(test_y, y_pred_best, average='weighted'))\n",
    "print('Recall: %.3f' % recall_score(test_y, y_pred_best, average='weighted'))\n",
    "print('Accuracy: %.3f' % accuracy_score(test_y, y_pred_best))\n",
    "print('F1 Score: %.3f' % f1_score(test_y, y_pred_best, average='weighted'))"
   ]
  },
  {
   "cell_type": "code",
   "execution_count": 28,
   "metadata": {},
   "outputs": [
    {
     "name": "stdout",
     "output_type": "stream",
     "text": [
      "[[0 0 0 ... 0 0 0]\n",
      " [0 0 0 ... 0 0 0]\n",
      " [0 0 0 ... 0 0 0]\n",
      " ...\n",
      " [0 0 0 ... 0 0 0]\n",
      " [0 0 0 ... 0 0 0]\n",
      " [0 0 0 ... 0 0 0]]\n",
      "Precision: 0.003\n",
      "Recall: 0.025\n",
      "Accuracy: 0.025\n",
      "F1 Score: 0.005\n"
     ]
    },
    {
     "name": "stderr",
     "output_type": "stream",
     "text": [
      "C:\\Users\\lbansal\\Anaconda3\\lib\\site-packages\\sklearn\\metrics\\_classification.py:1248: UndefinedMetricWarning: Precision is ill-defined and being set to 0.0 in labels with no predicted samples. Use `zero_division` parameter to control this behavior.\n",
      "  _warn_prf(average, modifier, msg_start, len(result))\n"
     ]
    }
   ],
   "source": [
    "# Build SVM Classifier\n",
    "svm = SVC(probability=True, random_state=2)\n",
    "svm.fit(train_x, train_y)\n",
    "y_pred = svm.predict(test_x)\n",
    "# Predict probabilities\n",
    "probs_y = svm.predict_proba(test_x)\n",
    "probs_y = np.round(probs_y, 2)\n",
    "from sklearn.metrics import confusion_matrix, precision_score, recall_score, accuracy_score, f1_score\n",
    "cm = confusion_matrix(test_y, y_pred)\n",
    "print(cm)\n",
    "print('Precision: %.3f' % precision_score(test_y, y_pred, average='weighted'))\n",
    "print('Recall: %.3f' % recall_score(test_y, y_pred, average='weighted'))\n",
    "print('Accuracy: %.3f' % accuracy_score(test_y, y_pred))\n",
    "print('F1 Score: %.3f' % f1_score(test_y, y_pred, average='weighted'))"
   ]
  },
  {
   "cell_type": "code",
   "execution_count": 29,
   "metadata": {},
   "outputs": [],
   "source": [
    "## Naive Bayes"
   ]
  },
  {
   "cell_type": "code",
   "execution_count": 30,
   "metadata": {},
   "outputs": [
    {
     "name": "stdout",
     "output_type": "stream",
     "text": [
      "[[0 0 1 ... 0 0 0]\n",
      " [0 0 1 ... 0 0 0]\n",
      " [0 0 0 ... 0 0 0]\n",
      " ...\n",
      " [0 0 0 ... 0 0 0]\n",
      " [0 0 0 ... 0 3 0]\n",
      " [0 0 0 ... 0 0 2]]\n",
      "Precision: 0.046\n",
      "Recall: 0.056\n",
      "Accuracy: 0.056\n",
      "F1 Score: 0.047\n"
     ]
    },
    {
     "name": "stderr",
     "output_type": "stream",
     "text": [
      "C:\\Users\\lbansal\\Anaconda3\\lib\\site-packages\\sklearn\\metrics\\_classification.py:1248: UndefinedMetricWarning: Precision is ill-defined and being set to 0.0 in labels with no predicted samples. Use `zero_division` parameter to control this behavior.\n",
      "  _warn_prf(average, modifier, msg_start, len(result))\n",
      "C:\\Users\\lbansal\\Anaconda3\\lib\\site-packages\\sklearn\\metrics\\_classification.py:1248: UndefinedMetricWarning: Recall is ill-defined and being set to 0.0 in labels with no true samples. Use `zero_division` parameter to control this behavior.\n",
      "  _warn_prf(average, modifier, msg_start, len(result))\n"
     ]
    }
   ],
   "source": [
    "from sklearn.naive_bayes import GaussianNB\n",
    "\n",
    "# Initiating the model:\n",
    "nb = GaussianNB()\n",
    "nb.fit(train_x, train_y)\n",
    "# Predicting the Test set results\n",
    "y_pred = nb.predict(test_x)\n",
    "# Predict probabilities\n",
    "probs_y = nb.predict_proba(test_x)\n",
    "probs_y = np.round(probs_y, 2)\n",
    "from sklearn.metrics import confusion_matrix, precision_score, recall_score, accuracy_score, f1_score\n",
    "cm = confusion_matrix(test_y, y_pred)\n",
    "print(cm)\n",
    "print('Precision: %.3f' % precision_score(test_y, y_pred, average='weighted'))\n",
    "print('Recall: %.3f' % recall_score(test_y, y_pred, average='weighted'))\n",
    "print('Accuracy: %.3f' % accuracy_score(test_y, y_pred))\n",
    "print('F1 Score: %.3f' % f1_score(test_y, y_pred, average='weighted'))"
   ]
  },
  {
   "cell_type": "code",
   "execution_count": null,
   "metadata": {},
   "outputs": [],
   "source": []
  },
  {
   "cell_type": "code",
   "execution_count": 31,
   "metadata": {},
   "outputs": [],
   "source": [
    "# y_pred_logreg = logreg.predict(test_x_standard)\n",
    "# y_pred_dtc = dtc.predict(test_x_standard)\n",
    "# y_pred_knn = knn.predict(test_x_standard)\n",
    "# y_pred_svc = svc.predict(test_x_standard)\n",
    "# y_pred_logreg.shape"
   ]
  },
  {
   "cell_type": "code",
   "execution_count": 32,
   "metadata": {},
   "outputs": [],
   "source": [
    "# # Accuracy\n",
    "# accuracy_score_list = []\n",
    "# # accuracy_score_list.append(accuracy_score(test_y,y_pred_logreg))\n",
    "# accuracy_score_list.append(accuracy_score(test_y,y_pred_dtc))\n",
    "# accuracy_score_list.append(accuracy_score(test_y,y_pred_knn))\n",
    "# accuracy_score_list.append(accuracy_score(test_y,y_pred_svc))\n",
    "\n",
    "# # # Sensitivity\n",
    "# sensitivity_list = []\n",
    "# # sensitivity_list.append(recall_score(test_y,y_pred_logreg))\n",
    "# sensitivity_list.append(recall_score(test_y,y_pred_dtc))\n",
    "# sensitivity_list.append(recall_score(test_y,y_pred_knn))\n",
    "# sensitivity_list.append(recall_score(test_y,y_pred_svc))\n",
    "\n",
    "# # # Precision\n",
    "# precision_list = []\n",
    "# precision_list.append(precision_score(test_y,y_pred_logreg))\n",
    "# precision_list.append(precision_score(test_y,y_pred_dtc))\n",
    "# precision_list.append(precision_score(test_y,y_pred_knn))\n",
    "# precision_list.append(precision_score(test_y,y_pred_svc))\n",
    "\n",
    "# # # F1-score\n",
    "# f1_score_list = []\n",
    "# f1_score_list.append(f1_score(test_y,y_pred_logreg))\n",
    "# f1_score_list.append(f1_score(test_y,y_pred_dtc))\n",
    "# f1_score_list.append(f1_score(test_y,y_pred_knn))\n",
    "# f1_score_list.append(f1_score(test_y,y_pred_svc))\n",
    "\n",
    "# # # ROC AUC score\n",
    "# roc_auc_score_list = []\n",
    "# roc_auc_score_list.append(roc_auc_score(test_y,y_pred_logreg))\n",
    "# roc_auc_score_list.append(roc_auc_score(test_y,y_pred_dtc))\n",
    "# roc_auc_score_list.append(roc_auc_score(test_y,y_pred_knn))\n",
    "# roc_auc_score_list.append(roc_auc_score(test_y,y_pred_svc))\n",
    "\n",
    "# # Classifier Names\n",
    "# classifier_list = []\n",
    "# classifier_list.append('Logistic Regression')\n",
    "# classifier_list.append('Decision Tree')\n",
    "# classifier_list.append('KNN')\n",
    "# classifier_list.append('SVM')\n",
    "\n",
    "# metrics = np.column_stack((classifier_list,accuracy_score_list,sensitivity_list,precision_list,f1_score_list,roc_auc_score_list))\n",
    "# df_metrics = pd.DataFrame(data=metrics, columns=['Classifier','Accuracy','Sensitivity','Precision','F1-score','ROC AUC score'])\n",
    "# df_metrics"
   ]
  },
  {
   "cell_type": "code",
   "execution_count": 33,
   "metadata": {},
   "outputs": [
    {
     "name": "stdout",
     "output_type": "stream",
     "text": [
      "[[0 0 1 ... 0 0 0]\n",
      " [0 0 0 ... 0 0 0]\n",
      " [0 0 0 ... 0 0 0]\n",
      " ...\n",
      " [0 0 0 ... 3 0 0]\n",
      " [0 0 0 ... 0 0 0]\n",
      " [0 0 0 ... 0 0 2]]\n",
      "Precision: 0.105\n",
      "Recall: 0.106\n",
      "Accuracy: 0.106\n",
      "F1 Score: 0.101\n"
     ]
    },
    {
     "name": "stderr",
     "output_type": "stream",
     "text": [
      "C:\\Users\\lbansal\\Anaconda3\\lib\\site-packages\\sklearn\\metrics\\_classification.py:1248: UndefinedMetricWarning: Precision is ill-defined and being set to 0.0 in labels with no predicted samples. Use `zero_division` parameter to control this behavior.\n",
      "  _warn_prf(average, modifier, msg_start, len(result))\n",
      "C:\\Users\\lbansal\\Anaconda3\\lib\\site-packages\\sklearn\\metrics\\_classification.py:1248: UndefinedMetricWarning: Recall is ill-defined and being set to 0.0 in labels with no true samples. Use `zero_division` parameter to control this behavior.\n",
      "  _warn_prf(average, modifier, msg_start, len(result))\n"
     ]
    }
   ],
   "source": [
    "## Random Forest\n",
    "from sklearn.ensemble import RandomForestClassifier\n",
    "# Initiating the model:\n",
    "rf = RandomForestClassifier(random_state=42)\n",
    "X_train = train_x\n",
    "y_train = train_y\n",
    "X_test = test_x\n",
    "y_test = test_y\n",
    "rf.fit( X_train, y_train)\n",
    "# Predicting the Test set results\n",
    "y_pred = rf.predict(X_test)\n",
    "# Predict probabilities\n",
    "probs_y = rf.predict_proba(X_test)\n",
    "probs_y = np.round(probs_y, 2)\n",
    "from sklearn.metrics import confusion_matrix, precision_score, recall_score, accuracy_score, f1_score\n",
    "cm = confusion_matrix(y_test, y_pred)\n",
    "print(cm)\n",
    "print('Precision: %.3f' % precision_score(y_test, y_pred, average='weighted'))\n",
    "print('Recall: %.3f' % recall_score(y_test, y_pred, average='weighted'))\n",
    "print('Accuracy: %.3f' % accuracy_score(y_test, y_pred))\n",
    "print('F1 Score: %.3f' % f1_score(y_test, y_pred, average='weighted'))"
   ]
  },
  {
   "cell_type": "code",
   "execution_count": 34,
   "metadata": {},
   "outputs": [],
   "source": [
    "## Random Forest\n",
    "\n",
    "import numpy as np\n",
    "import pandas as pd\n",
    "import seaborn as sns\n",
    "sns.set(context=\"notebook\", palette=\"Spectral\", style = 'darkgrid' ,font_scale = 1.5, color_codes=True)\n",
    "import warnings\n",
    "warnings.filterwarnings('ignore')\n",
    "import os\n",
    "import matplotlib.pyplot as plt\n",
    "%matplotlib inline\n",
    "from sklearn.metrics import confusion_matrix, precision_score, recall_score, accuracy_score, f1_score, accuracy_score"
   ]
  },
  {
   "cell_type": "code",
   "execution_count": 35,
   "metadata": {},
   "outputs": [],
   "source": [
    "from sklearn import datasets\n",
    "import warnings\n",
    "warnings.filterwarnings('ignore')\n",
    "# import some data to play with\n",
    "data = car_data_sold_wo\n",
    "y = data[\"Selling_Price\"]\n",
    "# df['y'] = y"
   ]
  },
  {
   "cell_type": "code",
   "execution_count": 36,
   "metadata": {},
   "outputs": [
    {
     "data": {
      "text/plain": [
       "(1977, 76)"
      ]
     },
     "execution_count": 36,
     "metadata": {},
     "output_type": "execute_result"
    }
   ],
   "source": [
    "data.shape"
   ]
  },
  {
   "cell_type": "code",
   "execution_count": 37,
   "metadata": {},
   "outputs": [],
   "source": [
    "from sklearn.model_selection import train_test_split, cross_val_score, cross_val_predict\n",
    "X_train, X_test, y_train, y_test = train_test_split(data, y,random_state = 0,test_size=0.30)"
   ]
  },
  {
   "cell_type": "code",
   "execution_count": 38,
   "metadata": {},
   "outputs": [
    {
     "data": {
      "text/plain": [
       "RandomForestClassifier(random_state=42)"
      ]
     },
     "execution_count": 38,
     "metadata": {},
     "output_type": "execute_result"
    }
   ],
   "source": [
    "from sklearn.ensemble import RandomForestClassifier\n",
    "# Initiating the model:\n",
    "rf = RandomForestClassifier(random_state=42)\n",
    "rf.fit( X_train, y_train)"
   ]
  },
  {
   "cell_type": "code",
   "execution_count": 39,
   "metadata": {},
   "outputs": [],
   "source": [
    "# Predicting the Test set results\n",
    "y_pred = rf.predict(X_test)\n",
    "# Predict probabilities\n",
    "probs_y = rf.predict_proba(X_test)\n",
    "probs_y = np.round(probs_y, 2)"
   ]
  },
  {
   "cell_type": "code",
   "execution_count": 40,
   "metadata": {},
   "outputs": [
    {
     "name": "stdout",
     "output_type": "stream",
     "text": [
      "[[0 1 0 ... 0 0 0]\n",
      " [0 1 1 ... 0 0 0]\n",
      " [0 0 0 ... 0 0 0]\n",
      " ...\n",
      " [0 0 0 ... 1 0 0]\n",
      " [0 0 0 ... 0 1 0]\n",
      " [0 0 0 ... 0 0 4]]\n"
     ]
    }
   ],
   "source": [
    "from sklearn.metrics import confusion_matrix, precision_score, recall_score, accuracy_score, f1_score\n",
    "cm = confusion_matrix(y_test, y_pred)\n",
    "print(cm)"
   ]
  },
  {
   "cell_type": "code",
   "execution_count": 41,
   "metadata": {},
   "outputs": [
    {
     "name": "stdout",
     "output_type": "stream",
     "text": [
      "Precision: 0.239\n",
      "Recall: 0.268\n",
      "Accuracy: 0.268\n",
      "F1 Score: 0.239\n"
     ]
    }
   ],
   "source": [
    "print('Precision: %.3f' % precision_score(y_test, y_pred, average='weighted'))\n",
    "print('Recall: %.3f' % recall_score(y_test, y_pred, average='weighted'))\n",
    "print('Accuracy: %.3f' % accuracy_score(y_test, y_pred))\n",
    "print('F1 Score: %.3f' % f1_score(y_test, y_pred, average='weighted'))"
   ]
  },
  {
   "cell_type": "code",
   "execution_count": 42,
   "metadata": {},
   "outputs": [],
   "source": [
    "# Create the random grid\n",
    "random_grid = {'n_estimators': [4, 8, 16],                  # Number of trees in random forest\n",
    "               'max_features': ['auto', 'sqrt'],              # Number of features to consider at every split\n",
    "               'max_depth': [8, 12, 16],                       # Maximum number of levels in tree\n",
    "               'min_samples_split': [4 , 8, 16],              # Minimum number of samples required to split a node\n",
    "               'min_samples_leaf': [4, 8],                    # Minimum number of samples required at each leaf node\n",
    "               'bootstrap': [True, False]}                    # Method of selecting samples for training each tree"
   ]
  },
  {
   "cell_type": "code",
   "execution_count": 43,
   "metadata": {},
   "outputs": [
    {
     "name": "stdout",
     "output_type": "stream",
     "text": [
      "Fitting 3 folds for each of 10 candidates, totalling 30 fits\n"
     ]
    },
    {
     "data": {
      "text/plain": [
       "RandomizedSearchCV(cv=3, estimator=RandomForestClassifier(random_state=42),\n",
       "                   param_distributions={'bootstrap': [True, False],\n",
       "                                        'max_depth': [8, 12, 16],\n",
       "                                        'max_features': ['auto', 'sqrt'],\n",
       "                                        'min_samples_leaf': [4, 8],\n",
       "                                        'min_samples_split': [4, 8, 16],\n",
       "                                        'n_estimators': [4, 8, 16]},\n",
       "                   random_state=42, verbose=1)"
      ]
     },
     "execution_count": 43,
     "metadata": {},
     "output_type": "execute_result"
    }
   ],
   "source": [
    "from sklearn.model_selection import RandomizedSearchCV\n",
    "rf_random = RandomizedSearchCV(estimator = rf, param_distributions = random_grid, cv = 3, verbose=1, random_state=42)\n",
    "# Fit the random search model\n",
    "rf_random.fit(X_train, y_train)"
   ]
  },
  {
   "cell_type": "code",
   "execution_count": 44,
   "metadata": {},
   "outputs": [
    {
     "data": {
      "text/plain": [
       "{'n_estimators': 16,\n",
       " 'min_samples_split': 4,\n",
       " 'min_samples_leaf': 4,\n",
       " 'max_features': 'auto',\n",
       " 'max_depth': 16,\n",
       " 'bootstrap': False}"
      ]
     },
     "execution_count": 44,
     "metadata": {},
     "output_type": "execute_result"
    }
   ],
   "source": [
    "rf_random.best_params_"
   ]
  },
  {
   "cell_type": "code",
   "execution_count": 45,
   "metadata": {},
   "outputs": [
    {
     "data": {
      "text/plain": [
       "RandomForestClassifier(max_depth=16, min_samples_leaf=4, min_samples_split=4,\n",
       "                       n_estimators=8)"
      ]
     },
     "execution_count": 45,
     "metadata": {},
     "output_type": "execute_result"
    }
   ],
   "source": [
    "rf_best = RandomForestClassifier(n_estimators = 8, min_samples_split = 4, min_samples_leaf= 4, max_features = 'auto', max_depth= 16, bootstrap=True) \n",
    "rf_best.fit( X_train, y_train) "
   ]
  },
  {
   "cell_type": "code",
   "execution_count": 46,
   "metadata": {},
   "outputs": [],
   "source": [
    "# Predicting the Test set results\n",
    "y_pred_best = rf_best.predict(X_test)\n",
    "# Predict probabilities\n",
    "probs_y_best = rf_best.predict_proba(X_test)\n",
    "probs_y_best = np.round(probs_y_best, 2)"
   ]
  },
  {
   "cell_type": "code",
   "execution_count": 47,
   "metadata": {},
   "outputs": [
    {
     "name": "stdout",
     "output_type": "stream",
     "text": [
      "[[0 0 0 ... 0 0 0]\n",
      " [0 0 0 ... 0 0 0]\n",
      " [0 1 0 ... 0 0 0]\n",
      " ...\n",
      " [0 0 0 ... 1 0 0]\n",
      " [0 0 0 ... 0 0 0]\n",
      " [0 0 0 ... 0 0 4]]\n"
     ]
    }
   ],
   "source": [
    "from sklearn.metrics import confusion_matrix, precision_score, recall_score, accuracy_score, f1_score\n",
    "cm = confusion_matrix(y_test, y_pred_best) \n",
    "print(cm)"
   ]
  },
  {
   "cell_type": "code",
   "execution_count": 48,
   "metadata": {},
   "outputs": [
    {
     "name": "stdout",
     "output_type": "stream",
     "text": [
      "Precision: 0.174\n",
      "Recall: 0.249\n",
      "Accuracy: 0.249\n",
      "F1 Score: 0.187\n"
     ]
    }
   ],
   "source": [
    "print('Precision: %.3f' % precision_score(y_test, y_pred_best, average='weighted'))\n",
    "print('Recall: %.3f' % recall_score(y_test, y_pred_best, average='weighted'))\n",
    "print('Accuracy: %.3f' % accuracy_score(y_test, y_pred_best))\n",
    "print('F1 Score: %.3f' % f1_score(y_test, y_pred_best, average='weighted'))"
   ]
  },
  {
   "cell_type": "code",
   "execution_count": 49,
   "metadata": {},
   "outputs": [],
   "source": [
    "## Gradient Boosting"
   ]
  },
  {
   "cell_type": "code",
   "execution_count": 50,
   "metadata": {},
   "outputs": [],
   "source": [
    "import numpy as np\n",
    "import pandas as pd\n",
    "import seaborn as sns\n",
    "sns.set(context=\"notebook\", palette=\"Spectral\", style = 'darkgrid' ,font_scale = 1.5, color_codes=True)\n",
    "import warnings\n",
    "warnings.filterwarnings('ignore')\n",
    "import os\n",
    "import matplotlib.pyplot as plt\n",
    "%matplotlib inline\n",
    "from sklearn.metrics import confusion_matrix, precision_score, recall_score, accuracy_score, f1_score, accuracy_score"
   ]
  },
  {
   "cell_type": "code",
   "execution_count": 51,
   "metadata": {},
   "outputs": [],
   "source": [
    "from sklearn import datasets\n",
    "import warnings\n",
    "warnings.filterwarnings('ignore')\n",
    "# import some data to play with\n",
    "data = car_data_sold_wo\n",
    "y = data[\"Selling_Price\"]\n",
    "# df['y'] = y"
   ]
  },
  {
   "cell_type": "code",
   "execution_count": 52,
   "metadata": {},
   "outputs": [],
   "source": [
    "from sklearn.model_selection import train_test_split, cross_val_score, cross_val_predict\n",
    "X_train, X_test, y_train, y_test = train_test_split(data, y,random_state = 0,test_size=0.30)"
   ]
  },
  {
   "cell_type": "code",
   "execution_count": 53,
   "metadata": {},
   "outputs": [
    {
     "ename": "KeyboardInterrupt",
     "evalue": "",
     "output_type": "error",
     "traceback": [
      "\u001b[1;31m---------------------------------------------------------------------------\u001b[0m",
      "\u001b[1;31mKeyboardInterrupt\u001b[0m                         Traceback (most recent call last)",
      "\u001b[1;32m~\\AppData\\Local\\Temp/ipykernel_21144/3016360705.py\u001b[0m in \u001b[0;36m<module>\u001b[1;34m\u001b[0m\n\u001b[0;32m      5\u001b[0m \u001b[1;33m\u001b[0m\u001b[0m\n\u001b[0;32m      6\u001b[0m \u001b[0mbaseline\u001b[0m \u001b[1;33m=\u001b[0m \u001b[0mGradientBoostingClassifier\u001b[0m\u001b[1;33m(\u001b[0m\u001b[0mrandom_state\u001b[0m\u001b[1;33m=\u001b[0m\u001b[1;36m10\u001b[0m\u001b[1;33m)\u001b[0m\u001b[1;33m\u001b[0m\u001b[1;33m\u001b[0m\u001b[0m\n\u001b[1;32m----> 7\u001b[1;33m \u001b[0mbaseline\u001b[0m\u001b[1;33m.\u001b[0m\u001b[0mfit\u001b[0m\u001b[1;33m(\u001b[0m\u001b[0mX_train\u001b[0m\u001b[1;33m,\u001b[0m\u001b[0my_train\u001b[0m\u001b[1;33m)\u001b[0m\u001b[1;33m\u001b[0m\u001b[1;33m\u001b[0m\u001b[0m\n\u001b[0m\u001b[0;32m      8\u001b[0m \u001b[0mpredictors\u001b[0m\u001b[1;33m=\u001b[0m\u001b[0mlist\u001b[0m\u001b[1;33m(\u001b[0m\u001b[0mX_train\u001b[0m\u001b[1;33m)\u001b[0m\u001b[1;33m\u001b[0m\u001b[1;33m\u001b[0m\u001b[0m\n\u001b[0;32m      9\u001b[0m \u001b[1;33m\u001b[0m\u001b[0m\n",
      "\u001b[1;32m~\\Anaconda3\\lib\\site-packages\\sklearn\\ensemble\\_gb.py\u001b[0m in \u001b[0;36mfit\u001b[1;34m(self, X, y, sample_weight, monitor)\u001b[0m\n\u001b[0;32m    502\u001b[0m \u001b[1;33m\u001b[0m\u001b[0m\n\u001b[0;32m    503\u001b[0m         \u001b[1;31m# fit the boosting stages\u001b[0m\u001b[1;33m\u001b[0m\u001b[1;33m\u001b[0m\u001b[0m\n\u001b[1;32m--> 504\u001b[1;33m         n_stages = self._fit_stages(\n\u001b[0m\u001b[0;32m    505\u001b[0m             \u001b[0mX\u001b[0m\u001b[1;33m,\u001b[0m \u001b[0my\u001b[0m\u001b[1;33m,\u001b[0m \u001b[0mraw_predictions\u001b[0m\u001b[1;33m,\u001b[0m \u001b[0msample_weight\u001b[0m\u001b[1;33m,\u001b[0m \u001b[0mself\u001b[0m\u001b[1;33m.\u001b[0m\u001b[0m_rng\u001b[0m\u001b[1;33m,\u001b[0m \u001b[0mX_val\u001b[0m\u001b[1;33m,\u001b[0m \u001b[0my_val\u001b[0m\u001b[1;33m,\u001b[0m\u001b[1;33m\u001b[0m\u001b[1;33m\u001b[0m\u001b[0m\n\u001b[0;32m    506\u001b[0m             sample_weight_val, begin_at_stage, monitor)\n",
      "\u001b[1;32m~\\Anaconda3\\lib\\site-packages\\sklearn\\ensemble\\_gb.py\u001b[0m in \u001b[0;36m_fit_stages\u001b[1;34m(self, X, y, raw_predictions, sample_weight, random_state, X_val, y_val, sample_weight_val, begin_at_stage, monitor)\u001b[0m\n\u001b[0;32m    559\u001b[0m \u001b[1;33m\u001b[0m\u001b[0m\n\u001b[0;32m    560\u001b[0m             \u001b[1;31m# fit next stage of trees\u001b[0m\u001b[1;33m\u001b[0m\u001b[1;33m\u001b[0m\u001b[0m\n\u001b[1;32m--> 561\u001b[1;33m             raw_predictions = self._fit_stage(\n\u001b[0m\u001b[0;32m    562\u001b[0m                 \u001b[0mi\u001b[0m\u001b[1;33m,\u001b[0m \u001b[0mX\u001b[0m\u001b[1;33m,\u001b[0m \u001b[0my\u001b[0m\u001b[1;33m,\u001b[0m \u001b[0mraw_predictions\u001b[0m\u001b[1;33m,\u001b[0m \u001b[0msample_weight\u001b[0m\u001b[1;33m,\u001b[0m \u001b[0msample_mask\u001b[0m\u001b[1;33m,\u001b[0m\u001b[1;33m\u001b[0m\u001b[1;33m\u001b[0m\u001b[0m\n\u001b[0;32m    563\u001b[0m                 random_state, X_csc, X_csr)\n",
      "\u001b[1;32m~\\Anaconda3\\lib\\site-packages\\sklearn\\ensemble\\_gb.py\u001b[0m in \u001b[0;36m_fit_stage\u001b[1;34m(self, i, X, y, raw_predictions, sample_weight, sample_mask, random_state, X_csc, X_csr)\u001b[0m\n\u001b[0;32m    189\u001b[0m                 \u001b[0my\u001b[0m \u001b[1;33m=\u001b[0m \u001b[0mnp\u001b[0m\u001b[1;33m.\u001b[0m\u001b[0marray\u001b[0m\u001b[1;33m(\u001b[0m\u001b[0moriginal_y\u001b[0m \u001b[1;33m==\u001b[0m \u001b[0mk\u001b[0m\u001b[1;33m,\u001b[0m \u001b[0mdtype\u001b[0m\u001b[1;33m=\u001b[0m\u001b[0mnp\u001b[0m\u001b[1;33m.\u001b[0m\u001b[0mfloat64\u001b[0m\u001b[1;33m)\u001b[0m\u001b[1;33m\u001b[0m\u001b[1;33m\u001b[0m\u001b[0m\n\u001b[0;32m    190\u001b[0m \u001b[1;33m\u001b[0m\u001b[0m\n\u001b[1;32m--> 191\u001b[1;33m             residual = loss.negative_gradient(y, raw_predictions_copy, k=k,\n\u001b[0m\u001b[0;32m    192\u001b[0m                                               sample_weight=sample_weight)\n\u001b[0;32m    193\u001b[0m \u001b[1;33m\u001b[0m\u001b[0m\n",
      "\u001b[1;32m~\\Anaconda3\\lib\\site-packages\\sklearn\\ensemble\\_gb_losses.py\u001b[0m in \u001b[0;36mnegative_gradient\u001b[1;34m(self, y, raw_predictions, k, **kwargs)\u001b[0m\n\u001b[0;32m    718\u001b[0m         \"\"\"\n\u001b[0;32m    719\u001b[0m         return y - np.nan_to_num(np.exp(raw_predictions[:, k] -\n\u001b[1;32m--> 720\u001b[1;33m                                         logsumexp(raw_predictions, axis=1)))\n\u001b[0m\u001b[0;32m    721\u001b[0m \u001b[1;33m\u001b[0m\u001b[0m\n\u001b[0;32m    722\u001b[0m     def _update_terminal_region(self, tree, terminal_regions, leaf, X, y,\n",
      "\u001b[1;32m~\\Anaconda3\\lib\\site-packages\\scipy\\special\\_logsumexp.py\u001b[0m in \u001b[0;36mlogsumexp\u001b[1;34m(a, axis, b, keepdims, return_sign)\u001b[0m\n\u001b[0;32m    108\u001b[0m         \u001b[0mtmp\u001b[0m \u001b[1;33m=\u001b[0m \u001b[0mb\u001b[0m \u001b[1;33m*\u001b[0m \u001b[0mnp\u001b[0m\u001b[1;33m.\u001b[0m\u001b[0mexp\u001b[0m\u001b[1;33m(\u001b[0m\u001b[0ma\u001b[0m \u001b[1;33m-\u001b[0m \u001b[0ma_max\u001b[0m\u001b[1;33m)\u001b[0m\u001b[1;33m\u001b[0m\u001b[1;33m\u001b[0m\u001b[0m\n\u001b[0;32m    109\u001b[0m     \u001b[1;32melse\u001b[0m\u001b[1;33m:\u001b[0m\u001b[1;33m\u001b[0m\u001b[1;33m\u001b[0m\u001b[0m\n\u001b[1;32m--> 110\u001b[1;33m         \u001b[0mtmp\u001b[0m \u001b[1;33m=\u001b[0m \u001b[0mnp\u001b[0m\u001b[1;33m.\u001b[0m\u001b[0mexp\u001b[0m\u001b[1;33m(\u001b[0m\u001b[0ma\u001b[0m \u001b[1;33m-\u001b[0m \u001b[0ma_max\u001b[0m\u001b[1;33m)\u001b[0m\u001b[1;33m\u001b[0m\u001b[1;33m\u001b[0m\u001b[0m\n\u001b[0m\u001b[0;32m    111\u001b[0m \u001b[1;33m\u001b[0m\u001b[0m\n\u001b[0;32m    112\u001b[0m     \u001b[1;31m# suppress warnings about log of zero\u001b[0m\u001b[1;33m\u001b[0m\u001b[1;33m\u001b[0m\u001b[0m\n",
      "\u001b[1;31mKeyboardInterrupt\u001b[0m: "
     ]
    }
   ],
   "source": [
    "from sklearn.ensemble import GradientBoostingClassifier\n",
    "from sklearn.metrics import classification_report\n",
    "from sklearn.model_selection import RandomizedSearchCV, GridSearchCV\n",
    "\n",
    "\n",
    "baseline = GradientBoostingClassifier(random_state=10)\n",
    "baseline.fit(X_train,y_train)\n",
    "predictors=list(X_train)\n",
    "\n",
    "feat_imp = pd.Series(baseline.feature_importances_, predictors).sort_values(ascending=False)\n",
    "feat_imp.plot(kind='bar', title='Importance of Features')\n",
    "plt.ylabel('Feature Importance Score')\n",
    "print(feat_imp)\n",
    "print('Accuracy of the GBM on test set: {:.3f}'.format(baseline.score(X_test, y_test)))\n",
    "pred=baseline.predict(X_test)\n",
    "print(classification_report(y_test, pred))"
   ]
  },
  {
   "cell_type": "code",
   "execution_count": null,
   "metadata": {},
   "outputs": [],
   "source": [
    "p_test3 = {'learning_rate':[0.1,0.01,0.001], 'n_estimators':[4, 8, 18]}\n",
    "tuning = GridSearchCV(estimator =GradientBoostingClassifier(random_state=10), \n",
    "            param_grid = p_test3, scoring='roc_auc', n_jobs=4, cv=3)\n",
    "tuning.fit(X_train,y_train)\n",
    "tuning.best_params_, tuning.best_score_\n"
   ]
  },
  {
   "cell_type": "code",
   "execution_count": null,
   "metadata": {},
   "outputs": [],
   "source": [
    "p_test2 = {'learning_rate':[0.1], \n",
    "           'n_estimators':[18],\n",
    "           'max_depth':[4, 8, 12],\n",
    "           'min_samples_split':[2, 4, 8],\n",
    "           'min_samples_leaf':[2, 4],\n",
    "           'max_features':[5, 6],\n",
    "           'subsample':[0.7, 0.8, 0.9]}\n",
    "tuning = GridSearchCV(estimator =GradientBoostingClassifier(random_state=10), \n",
    "            param_grid = p_test2, scoring='roc_auc',n_jobs=4,cv=3)\n",
    "tuning.fit(X_train,y_train)\n",
    "tuning.best_params_, tuning.best_score_"
   ]
  },
  {
   "cell_type": "code",
   "execution_count": null,
   "metadata": {},
   "outputs": [],
   "source": [
    "new=GradientBoostingClassifier(learning_rate=0.1, n_estimators=18,max_depth=6, min_samples_split=2,\n",
    "                               min_samples_leaf=2,max_features=6 , subsample=0.8, random_state=10)\n",
    "new.fit(X_train,y_train)\n",
    "predictors=list(X_train)\n",
    "feat_imp = pd.Series(new.feature_importances_, predictors).sort_values(ascending=False)\n",
    "feat_imp.plot(kind='bar', title='Importance of Features')\n",
    "plt.ylabel('Feature Importance Score')\n",
    "print('Accuracy of the GBM on test set: {:.3f}'.format(new.score(X_test, y_test)))\n",
    "pred=new.predict(X_test)\n",
    "print(classification_report(y_test, pred))"
   ]
  },
  {
   "cell_type": "code",
   "execution_count": null,
   "metadata": {},
   "outputs": [],
   "source": [
    "# Predicting the Test set results\n",
    "y_pred_best = new.predict(X_test)\n",
    "# Predict probabilities\n",
    "probs_y_best = new.predict_proba(X_test)\n",
    "probs_y_best = np.round(probs_y_best, 2)\n",
    "from sklearn.metrics import confusion_matrix, precision_score, recall_score, accuracy_score, f1_score\n",
    "cm = confusion_matrix(y_test, y_pred_best) \n",
    "print(cm)"
   ]
  }
 ],
 "metadata": {
  "interpreter": {
   "hash": "e613f35a8e2920d7288583e65a6e8891e2b2571ec58f52e43a76c268d72ea9ff"
  },
  "kernelspec": {
   "display_name": "Python 3 (ipykernel)",
   "language": "python",
   "name": "python3"
  },
  "language_info": {
   "codemirror_mode": {
    "name": "ipython",
    "version": 3
   },
   "file_extension": ".py",
   "mimetype": "text/x-python",
   "name": "python",
   "nbconvert_exporter": "python",
   "pygments_lexer": "ipython3",
   "version": "3.9.7"
  }
 },
 "nbformat": 4,
 "nbformat_minor": 2
}

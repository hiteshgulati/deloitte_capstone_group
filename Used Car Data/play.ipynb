{
 "cells": [
  {
   "cell_type": "markdown",
   "metadata": {},
   "source": [
    "# Capstone Project\n",
    "\n",
    "*add description here*\n",
    "\n",
    "## Checkpoint 1\n",
    "\n",
    "*add description here*\n",
    "\n",
    "### Task 1.1 Data Manipulation using Python\n",
    "\n",
    "*add description here*"
   ]
  },
  {
   "cell_type": "markdown",
   "metadata": {},
   "source": [
    "#### Import required Libraries"
   ]
  },
  {
   "cell_type": "code",
   "execution_count": 1,
   "metadata": {},
   "outputs": [],
   "source": [
    "import pandas as pd\n",
    "import numpy as np"
   ]
  },
  {
   "cell_type": "markdown",
   "metadata": {},
   "source": [
    "#### Prepare the table\n",
    "\n",
    "1) Import all csv / excel files\n",
    "2) Merge files into single dataframe"
   ]
  },
  {
   "cell_type": "code",
   "execution_count": 2,
   "metadata": {},
   "outputs": [
    {
     "data": {
      "text/html": [
       "<div>\n",
       "<style scoped>\n",
       "    .dataframe tbody tr th:only-of-type {\n",
       "        vertical-align: middle;\n",
       "    }\n",
       "\n",
       "    .dataframe tbody tr th {\n",
       "        vertical-align: top;\n",
       "    }\n",
       "\n",
       "    .dataframe thead th {\n",
       "        text-align: right;\n",
       "    }\n",
       "</style>\n",
       "<table border=\"1\" class=\"dataframe\">\n",
       "  <thead>\n",
       "    <tr style=\"text-align: right;\">\n",
       "      <th></th>\n",
       "      <th>Sales_ID</th>\n",
       "      <th>Name</th>\n",
       "      <th>Year</th>\n",
       "      <th>Selling_Price</th>\n",
       "      <th>km_Driven</th>\n",
       "      <th>City_Code</th>\n",
       "      <th>State_Code</th>\n",
       "      <th>Postal_Code</th>\n",
       "      <th>Fuel</th>\n",
       "      <th>Seller_Type</th>\n",
       "      <th>Transmission</th>\n",
       "      <th>Owner</th>\n",
       "      <th>Mileage</th>\n",
       "      <th>Engine</th>\n",
       "      <th>Max_Power</th>\n",
       "      <th>Seats</th>\n",
       "      <th>City_Name</th>\n",
       "      <th>Region_Code</th>\n",
       "      <th>Sold</th>\n",
       "      <th>State_Name</th>\n",
       "    </tr>\n",
       "  </thead>\n",
       "  <tbody>\n",
       "    <tr>\n",
       "      <th>0</th>\n",
       "      <td>1</td>\n",
       "      <td>Maruti Swift Dzire VDI</td>\n",
       "      <td>2014</td>\n",
       "      <td>450000</td>\n",
       "      <td>145500</td>\n",
       "      <td>CT01</td>\n",
       "      <td>ST15</td>\n",
       "      <td>400001</td>\n",
       "      <td>Diesel</td>\n",
       "      <td>Individual</td>\n",
       "      <td>Manual</td>\n",
       "      <td>First Owner</td>\n",
       "      <td>23.4 kmpl</td>\n",
       "      <td>1248 CC</td>\n",
       "      <td>74 bhp</td>\n",
       "      <td>5</td>\n",
       "      <td>Mumbai</td>\n",
       "      <td>R3</td>\n",
       "      <td>Y</td>\n",
       "      <td>Maharashtra</td>\n",
       "    </tr>\n",
       "    <tr>\n",
       "      <th>1</th>\n",
       "      <td>18</td>\n",
       "      <td>Hyundai i20 1.4 CRDi Asta</td>\n",
       "      <td>2012</td>\n",
       "      <td>500000</td>\n",
       "      <td>53000</td>\n",
       "      <td>CT01</td>\n",
       "      <td>ST15</td>\n",
       "      <td>400001</td>\n",
       "      <td>Diesel</td>\n",
       "      <td>Individual</td>\n",
       "      <td>Manual</td>\n",
       "      <td>Second Owner</td>\n",
       "      <td>23.0 kmpl</td>\n",
       "      <td>1396 CC</td>\n",
       "      <td>90 bhp</td>\n",
       "      <td>5</td>\n",
       "      <td>Mumbai</td>\n",
       "      <td>R3</td>\n",
       "      <td>Y</td>\n",
       "      <td>Maharashtra</td>\n",
       "    </tr>\n",
       "  </tbody>\n",
       "</table>\n",
       "</div>"
      ],
      "text/plain": [
       "   Sales_ID                       Name  Year  Selling_Price  km_Driven  \\\n",
       "0         1     Maruti Swift Dzire VDI  2014         450000     145500   \n",
       "1        18  Hyundai i20 1.4 CRDi Asta  2012         500000      53000   \n",
       "\n",
       "  City_Code State_Code  Postal_Code    Fuel Seller_Type Transmission  \\\n",
       "0      CT01       ST15       400001  Diesel  Individual       Manual   \n",
       "1      CT01       ST15       400001  Diesel  Individual       Manual   \n",
       "\n",
       "          Owner    Mileage   Engine Max_Power  Seats City_Name Region_Code  \\\n",
       "0   First Owner  23.4 kmpl  1248 CC    74 bhp      5    Mumbai          R3   \n",
       "1  Second Owner  23.0 kmpl  1396 CC    90 bhp      5    Mumbai          R3   \n",
       "\n",
       "  Sold   State_Name  \n",
       "0    Y  Maharashtra  \n",
       "1    Y  Maharashtra  "
      ]
     },
     "execution_count": 2,
     "metadata": {},
     "output_type": "execute_result"
    }
   ],
   "source": [
    "# 1) Import all csv.excel files\n",
    "sales = pd.read_csv('Car_sales_transactions.csv')\n",
    "city = pd.read_excel('City_Master.xlsx')\n",
    "# postal_code = pd.read_excel('Postal_Code_Master.xlsx')\n",
    "#TODO\n",
    "region = pd.read_excel('Region_Master.xlsx')\n",
    "region_state = pd.read_excel('Region_State_Mapping.xlsx')\n",
    "sales_status = pd.read_csv('Sales_Status.csv')\n",
    "state = pd.read_excel('State_Master.xlsx')\n",
    "\n",
    "#2) Merge all files into single dataframe\n",
    "df = sales.copy()\n",
    "df = pd.merge(df,city[['City_Code','City_Name']],on='City_Code')\n",
    "df = pd.merge(df,region_state,on='State_Code')\n",
    "df = pd.merge(df,sales_status,on='Sales_ID')\n",
    "df = pd.merge(df,state,on='State_Code')\n",
    "df.head(2)"
   ]
  }
 ],
 "metadata": {
  "interpreter": {
   "hash": "d82d8d66415ecd0553536a7500c37f960f91f4f2e85d29c277ae01d110cc4a1e"
  },
  "kernelspec": {
   "display_name": "Python 3.8.5 64-bit ('base': conda)",
   "language": "python",
   "name": "python3"
  },
  "language_info": {
   "codemirror_mode": {
    "name": "ipython",
    "version": 3
   },
   "file_extension": ".py",
   "mimetype": "text/x-python",
   "name": "python",
   "nbconvert_exporter": "python",
   "pygments_lexer": "ipython3",
   "version": "3.8.5"
  },
  "orig_nbformat": 4
 },
 "nbformat": 4,
 "nbformat_minor": 2
}
